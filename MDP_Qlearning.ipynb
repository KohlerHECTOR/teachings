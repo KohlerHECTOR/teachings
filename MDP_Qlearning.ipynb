{
  "cells": [
    {
      "cell_type": "markdown",
      "metadata": {
        "id": "2Q68OSoASm9w"
      },
      "source": [
        "# 1. Markov Decision Processes (MDP) $\\langle S, A, R, P, P_0, H, \\gamma\\rangle$\n",
        "\n",
        "$S$ a set of states.\\\n",
        "$A$ a set of actions.\\\n",
        "$R$ a reward mapping : $S \\times A \\rightarrow \\mathbb{R}$.\\\n",
        "$P$ the transition probabibility distribution $S \\times A \\rightarrow \\Delta S$.\\\n",
        "$P_0$ the initial distribution over states: $s_0 \\in S \\sim P_0$.\\\n",
        "$H$ the horizon: the number of transition per episode.\\\n",
        "$\\gamma$ the discount factor in $(0,1)$.\n"
      ]
    },
    {
      "cell_type": "markdown",
      "metadata": {
        "id": "2duHvG0tXLFq"
      },
      "source": [
        "MDPs are used to model sequential decision tasks in which at each time step $t$, an agent has to take an action given its current state. From $t=0$ to $t=H$, an agent observes state $s_t$ and takes action $a_t$. The agent then transitions to $s_{t+1}$ with probability $P(s_{t+1}|s_t, a_t)$ and receives reward $r_t = R(s_t,a_t,s_{t+1})$. At $t=0$, the agent \"spawns\" in an initial state $s_0$ with probability $P_0(s_0)$. One can also define terminal states that are such that an agent will not take actions in those states: in such terminal states the MDP stops even though $t<H$. An episode or a trajectory in a MDP, is a sequence of length at most $H$ of transition tuples ($s_t, a_t, r_t, s_{t+1}$)."
      ]
    },
    {
      "cell_type": "markdown",
      "metadata": {
        "id": "xJ3RmlC8d472"
      },
      "source": [
        "With Dynamic Programmic or Reinforcement Learning, it is possible to train agents in MDPs in order to learn good solutions for sequential decision tasks. Such solutions are called policies and are mappings from actions to distributions over actions: $\\Pi: S \\rightarrow \\Delta A$. The goal of Dynamic Programming and RL is to find the optimal policy $\\pi^* = \\underset{\\pi \\in \\Pi}{\\operatorname{argmax}} \\underset{s_0 \\sim P_0,a_t \\sim \\pi(s_t),s_{t+1}\\sim P(s_t, a_t)}{\\mathbb{E}}\\left [ \\underset{t=0}{\\overset{H}{\\sum}}\\gamma^t R(s_t, a_t)\\right ]$. The latter objective function finds policies that maximize the expected cumulative reward of the MDP: we want to find a policy that will, in expectation, generate MDP episodes with high rewards!"
      ]
    },
    {
      "cell_type": "markdown",
      "metadata": {
        "id": "kYSbx4kZZa6i"
      },
      "source": [
        "## 1.1 Exercise 1: Implement a Markov Decicion Process class.\n",
        "In the exercises, we will consider that states and actions are finite: $|S| < \\infty, |A| < \\infty $. For such discrete MDPs, the optimal policy is deterministic i.e $\\pi^*: S \\rightarrow A$.\n",
        "\n"
      ]
    },
    {
      "cell_type": "code",
      "execution_count": 1,
      "metadata": {
        "id": "EvZgNWOo-UWj"
      },
      "outputs": [],
      "source": [
        "import numpy as np\n",
        "import matplotlib.pyplot as plt"
      ]
    },
    {
      "cell_type": "code",
      "execution_count": 2,
      "metadata": {
        "id": "IYGbBEW9aar-"
      },
      "outputs": [],
      "source": [
        "class Mdp:\n",
        "    \"\"\"\n",
        "    defines a Markov Decision Process\n",
        "    \"\"\"\n",
        "    def __init__(\n",
        "        self,\n",
        "        states: list,\n",
        "        actions: list,\n",
        "        initial_distribution: np.array, #P0\n",
        "        transition_probability: np.array, #P\n",
        "        reward_function: np.array, #R\n",
        "        gamma: float = 0.9,\n",
        "        terminal_states: list = [],\n",
        "        Horizon: int = 50,\n",
        "    ):\n",
        "        self.states = states\n",
        "        self.nb_states = len(states)\n",
        "        self.terminal_states = terminal_states\n",
        "\n",
        "        self.actions = actions\n",
        "        self.nb_actions = len(actions)\n",
        "\n",
        "        self.P = transition_probability\n",
        "        self.P0 = initial_distribution  # distribution used to draw the first state of the agent, ased in method reset()\n",
        "\n",
        "        self.R = reward_function\n",
        "\n",
        "        self.Horizon = Horizon  # maximum length of an episode\n",
        "        self.gamma = gamma  # discount factor\n",
        "\n",
        "        self.timestep = 0\n",
        "        self.current_state = None\n",
        "\n",
        "        assert self.check_P_is_distrib(), \"the transition matrix is not a distribution over (S,A)\"\n",
        "        assert self.check_P0_is_distrib(), \"initial state is not drawn according to a distribution\"\n",
        "\n",
        "\n",
        "    # TODO: write methods to check arrays are probability distributions\n",
        "    def check_P_is_distrib(self):\n",
        "        return np.all(np.logical_and(self.P >= 0, self.P <= 1)) and np.allclose(np.sum(self.P, axis=2), np.ones((self.nb_states, self.nb_actions)), rtol=1e-05, atol=1e-08)\n",
        "    def check_P0_is_distrib(self):\n",
        "        return np.all(np.logical_and(self.P >= 0, self.P <= 1)) and np.all(np.sum(self.P0, axis=0) == 1)\n",
        "\n",
        "    def reset(self):  # Initializes an episode and returns the state of the agent.\n",
        "        self.current_state = np.random.choice(a=self.states, p=self.P0)\n",
        "        self.timestep = 0\n",
        "        return self.current_state\n",
        "\n",
        "    def done(self):  # returns True if an episode is over\n",
        "        # TODO: An episode is over if the current state is a terminal state,\n",
        "        # OR if the length of the episode is greater than the Horizon..\n",
        "        return self.timestep >= self.Horizon or self.current_state in self.terminal_states\n",
        "\n",
        "    def step(self, a):  # Given the current state, and an action, performs a transtion in the MDP,\n",
        "        # TODO: Draw the next state according to the transition matrix.\n",
        "        next_state = np.random.choice(a=self.states, p=self.P[self.current_state, a])\n",
        "        # TODO: Get the reward of the transition.\n",
        "        reward = self.R[self.current_state, a, next_state]\n",
        "\n",
        "        self.timestep += 1\n",
        "        self.current_state = next_state\n",
        "        done = self.done()  # checks if the episode is over\n",
        "\n",
        "        return next_state, reward, done\n",
        "\n",
        "    def one_episode(self, policy):\n",
        "        state = self.reset()\n",
        "        done = False\n",
        "        score = 0\n",
        "        while not done:\n",
        "            action = policy(state)\n",
        "            next_state, r, done = self.step(action)\n",
        "            score += r\n",
        "            state = next_state\n",
        "        return score\n"
      ]
    },
    {
      "cell_type": "markdown",
      "metadata": {
        "id": "lWsZsN8LmF_M"
      },
      "source": [
        "## 1.2 Exercise 2: Model the blackjack with dice game using your MDP class and evaluate the performances of simple policies."
      ]
    },
    {
      "cell_type": "markdown",
      "metadata": {
        "id": "Mipbo3TFnWJQ"
      },
      "source": [
        "In blackjack with a die, the goal is to throw as many die as one wants, sequentially, in order to obtain a sum of dice as close as possible to 21. Take your time to model the problem.\n",
        "An episode, i.e a single blackjacke with a die game, looks like this: agent throws a die, check the result, decides to throw again or not, if it threw, checks the sum of dice and repeat, else, the game is over. The score of the agent is the final sum of the dice (or 0, if the sum is strictly greater than 21).\n",
        "- What should the states be ?\n",
        "- What does the probability tranisition matrix looks like ?\n",
        "- Are there terminal transitions ?\n",
        "- What is the reward at time $t$ if the agent score is the *final* sum of dice?"
      ]
    },
    {
      "cell_type": "code",
      "execution_count": 3,
      "metadata": {
        "id": "wNiltMIwnVWH"
      },
      "outputs": [],
      "source": [
        "### BLACKJACK WITH DICE ###\n",
        "S = np.arange(22+1) # s = 0 is the initial state before any die is thrown.\n",
        "                    # s = 22 is a terminal state for dice sums > 21 and for deciding to stop.\n",
        "A = [0, 1] # To throw, or not.\n",
        "\n",
        "# The initial state of the MDP is always s = 0.\n",
        "P0 = np.zeros(len(S))\n",
        "P0[0] = 1\n",
        "\n",
        "# The transition probabilities of having a dice sum of 18 know we throw a dice\n",
        "# and we currently have a sum of 16 is the probability of getting a two in a die\n",
        "# throw: P(snext=18|s=16,a=1) = 1/6.\n",
        "# We strore P in a |S|x|A|x|S| matrix.\n",
        "P = np.zeros((len(S), len(A), len(S)))\n",
        "for s in S:\n",
        "    # If s is 22, we never take actions because it is a terminal state. However to ensure that P[s, a, s'] is a distribution, we still normalize \n",
        "    if s==22:\n",
        "        P[s,1,:] = 1/len(S)\n",
        "    else:\n",
        "        max_sum = s + 6\n",
        "        if max_sum  > 21:\n",
        "            risk = max_sum - 21\n",
        "            P[s, 1, s+1: -1] = 1/6\n",
        "            P[s, 1, -1] = risk/6\n",
        "        else:\n",
        "            P[s, 1, s+1: s + 1 + 6] = 1/6\n",
        "    # When stoping to throw, the mdp transitions to the terminal state\n",
        "    P[s, 0, -1] = 1\n",
        "\n",
        "# Implement the reward function as |S|x|A| matrix\n",
        "R = np.zeros((len(S), len(A), len(S)))\n",
        "for s in S:\n",
        "    R[s, 0, :] = s\n",
        "    R[s, 1, :] = 0\n",
        "\n",
        "blackjack_dice = Mdp(S, A, P0, P, R, terminal_states=[22])"
      ]
    },
    {
      "cell_type": "markdown",
      "metadata": {
        "id": "CnSPmuENS5Ri"
      },
      "source": [
        "A simple class for policies (a policy $\\pi$ takes a state $s$ and returns an action $a$)."
      ]
    },
    {
      "cell_type": "code",
      "execution_count": 4,
      "metadata": {
        "id": "MpXVDnFxvJPT"
      },
      "outputs": [],
      "source": [
        "class Policy:\n",
        "    def __init__(self, mdp:Mdp):\n",
        "        self.mdp = mdp\n",
        "\n",
        "    def get_action(self, state):\n",
        "        raise NotImplementedError\n",
        "\n",
        "class Uniform(Policy):\n",
        "    def __init__(self, mdp:Mdp):\n",
        "        super().__init__(mdp)\n",
        "\n",
        "    def get_action(self, state):\n",
        "        return np.random.randint(self.mdp.nb_actions)"
      ]
    },
    {
      "cell_type": "markdown",
      "metadata": {
        "id": "rQYX6vzUaR-j"
      },
      "source": [
        "Implement a simple policy that throw a die only if the score is below 16."
      ]
    },
    {
      "cell_type": "code",
      "execution_count": 5,
      "metadata": {
        "id": "zBiltIc7aZqF"
      },
      "outputs": [],
      "source": [
        "class ThresholdPolicy(Policy):\n",
        "    def __init__(sefl, mdp):\n",
        "        super().__init__(mdp)\n",
        "\n",
        "    def get_action(self, state):\n",
        "        # TODO\n",
        "        return int(state < 16)"
      ]
    },
    {
      "cell_type": "code",
      "execution_count": 6,
      "metadata": {
        "id": "hHQtIZcXS0jK"
      },
      "outputs": [
        {
          "name": "stdout",
          "output_type": "stream",
          "text": [
            "mean +- std of the score of the uniform policy: 3.3 +/- 4.497777228809803\n",
            "mean +- std of the score of the threshold policy: 17.62 +/- 1.4681961721786365\n"
          ]
        }
      ],
      "source": [
        "pol_unif = Uniform(blackjack_dice).get_action\n",
        "# Let us check the average performance of the random policy on 100 blackjack with dice games.\n",
        "policy_unif_eval = []\n",
        "for episodes in range(100):\n",
        "    policy_unif_eval.append(blackjack_dice.one_episode(pol_unif))\n",
        "\n",
        "pol_thresh = ThresholdPolicy(blackjack_dice).get_action\n",
        "# Let us check the average performance of the threshold policy on 100 blackjack with dice games.\n",
        "policy_thresh_eval = []\n",
        "for episodes in range(100):\n",
        "    policy_thresh_eval.append(blackjack_dice.one_episode(pol_thresh))\n",
        "\n",
        "\n",
        "print(\"mean +- std of the score of the uniform policy: {} +/- {}\".format(np.mean(policy_unif_eval), np.std(policy_unif_eval)))\n",
        "print(\"mean +- std of the score of the threshold policy: {} +/- {}\".format(np.mean(policy_thresh_eval), np.std(policy_thresh_eval)))\n"
      ]
    },
    {
      "cell_type": "markdown",
      "metadata": {
        "id": "VB6bjWDR06fq"
      },
      "source": [
        "# 2. Dynamic Programming.\n",
        "## 2.1 State value function $V^{\\pi}(s)$\n",
        "One way to find the optimal policy for a MDP is to find the states with highest value, then $\\pi^*$ is the policy that visits those states. The value of a state, given a policy $\\pi$, is the expected cumulative reward obtained by $\\pi$ over MDP episodes when starting the episodes in $s_0 = s$. It is defined as follows with the Bellman expectation equation:\\\n",
        "$V^{\\pi}(s) = \\underset{s'\\in S}{\\sum} P(s'|s, \\pi(s))(R(s, \\pi(s), s') + \\gamma V^{\\pi}(s'))$\\\n",
        "The value of state $s$ is simply the reward obtained by $\\pi$ in state $s$, plus the the value of the expected next state $s'$.\n",
        "## 2.2 Exercise 3: Implement the Value Iteration algorithm\n",
        "The Bellman optimality equation defines an algorithm to find the value function associated with the optimal policy. \\\n",
        "$V^*(s) = \\underset{a}{\\operatorname{max}}\\left [ \\underset{s'\\in S}{\\sum} P(s'|s, a)(R(s, a, s') + \\gamma V^{*}(s'))\\right]$\n",
        "\n",
        "[The Value Iteration algorithm](http://incompleteideas.net/book/ebook/node44.html)"
      ]
    },
    {
      "cell_type": "code",
      "execution_count": 7,
      "metadata": {
        "id": "UWIUK0Z-NN0Z"
      },
      "outputs": [],
      "source": [
        "def VI(mdp, eps = 1e-2): #Value Iteration using the state value V\n",
        "\n",
        "    V = np.zeros((mdp.nb_states)) #initial state values are set to 0\n",
        "    list_error = []\n",
        "    quitt = False\n",
        "\n",
        "    while quitt==False:\n",
        "        Vold = V.copy()\n",
        "        for s in mdp.states:\n",
        "            # TODO\n",
        "            if s in mdp.terminal_states:\n",
        "                continue\n",
        "            else:\n",
        "            # Compute the value of the state s for each action a of the MDP action space\n",
        "                V_temp = [] \n",
        "                for a in mdp.actions : \n",
        "                    # Process sum of next states\n",
        "                    sum = 0\n",
        "                    for s_next in mdp.states:\n",
        "                        sum = sum + mdp.P[s,a,s_next]*(mdp.R[s, a, s_next] + mdp.gamma * Vold[s_next])\n",
        "                    V_temp.append(sum)         \n",
        "                # Select the highest state value among those computed\n",
        "                V[s] = np.max(V_temp)\n",
        "\n",
        "        # Test if convergence has been reached\n",
        "        error = np.linalg.norm(V-Vold)\n",
        "        list_error.append(error)\n",
        "        if error < eps :\n",
        "            quitt = True\n",
        "\n",
        "    return V, list_error\n"
      ]
    },
    {
      "cell_type": "markdown",
      "metadata": {
        "id": "p6-gLcQEftii"
      },
      "source": [
        "Run VI on the blackjack with dice MDP and plot the convergence of the algorithm for different thresholds $\\epsilon$."
      ]
    },
    {
      "cell_type": "code",
      "execution_count": 8,
      "metadata": {
        "id": "9hARYJBXgBuY"
      },
      "outputs": [
        {
          "name": "stdout",
          "output_type": "stream",
          "text": [
            "[10.42598277 10.74032638 11.06744805 11.40977287 11.74671306 12.09086333\n",
            " 12.45162383 12.83581963 13.24821272 13.69192411 13.99297748 14.38519781\n",
            " 14.85669375 15.397125   15.9975     16.65       16.         17.\n",
            " 18.         19.         20.         21.          0.        ]\n"
          ]
        },
        {
          "data": {
            "text/plain": [
              "[<matplotlib.lines.Line2D at 0x7f1f45399e10>]"
            ]
          },
          "execution_count": 8,
          "metadata": {},
          "output_type": "execute_result"
        },
        {
          "data": {
            "image/png": "[encoded data removed]",
            "text/plain": [
              "<Figure size 640x480 with 1 Axes>"
            ]
          },
          "metadata": {},
          "output_type": "display_data"
        }
      ],
      "source": [
        "# TODO\n",
        "V, list_error = VI(blackjack_dice, eps = 0.001)\n",
        "print(V)\n",
        "plt.plot(list_error)"
      ]
    },
    {
      "cell_type": "markdown",
      "metadata": {
        "id": "F8G1lpgY92ss"
      },
      "source": [
        "You can visualiwe the optimal Value function:"
      ]
    },
    {
      "cell_type": "code",
      "execution_count": 9,
      "metadata": {
        "id": "VMgYba5f97NI"
      },
      "outputs": [
        {
          "data": {
            "text/plain": [
              "([], [])"
            ]
          },
          "execution_count": 9,
          "metadata": {},
          "output_type": "execute_result"
        },
        {
          "data": {
            "image/png": "[encoded data removed]",
            "text/plain": [
              "<Figure size 640x480 with 1 Axes>"
            ]
          },
          "metadata": {},
          "output_type": "display_data"
        }
      ],
      "source": [
        "tmp = V.reshape(-1,1)\n",
        "plt.imshow(tmp.T)\n",
        "plt.xlabel(\"$s$\")\n",
        "plt.ylabel(\"$V^*(s)$\")\n",
        "plt.yticks([])"
      ]
    },
    {
      "cell_type": "markdown",
      "metadata": {
        "id": "4kJ--Hc5WEpo"
      },
      "source": [
        "## 2.3 Exercise 4: Get the optimal policy $\\pi^*$ from $V^*$.\n",
        "Implement the class PolicyFromV. It takes as input an MDP and the associated $V^*$. In state $s$, $\\pi^*(s)$ should return the action $a$ that leads to the next state $s'$ with highest value $V^*(s')$.\\\n",
        "$\\pi^*(s) = \\underset{a}{\\operatorname{argmax}}\\left [ \\underset{s'\\in S}{\\sum} P(s'|s, a)(R(s, a, s') + \\gamma V^{*}(s'))\\right]$"
      ]
    },
    {
      "cell_type": "code",
      "execution_count": 10,
      "metadata": {
        "id": "Ah81UT3fUFOa"
      },
      "outputs": [],
      "source": [
        "class PolicyFromV(Policy):\n",
        "    def __init__(self, mdp, V):\n",
        "        super().__init__(mdp)\n",
        "        self.V = V\n",
        "        self.get_policy()\n",
        "\n",
        "    def get_policy(self):\n",
        "        self.policy = np.zeros(self.mdp.nb_states)\n",
        "        for s in self.mdp.states:\n",
        "            # TODO\n",
        "            if s in self.mdp.terminal_states:\n",
        "                continue\n",
        "            else:\n",
        "            # Compute the value of the state s for each action a of the MDP action space\n",
        "                V_temp = [] \n",
        "                for a in self.mdp.actions : \n",
        "                    # Process sum of next states\n",
        "                    sum = 0\n",
        "                    for s_next in self.mdp.states:\n",
        "                        sum = sum + self.mdp.P[s,a,s_next]*(self.mdp.R[s, a, s_next] + self.mdp.gamma * self.V[s_next])\n",
        "                    V_temp.append(sum)         \n",
        "                # Select the highest state value among those computed\n",
        "                self.policy[s] = np.argmax(V_temp)\n",
        "\n",
        "    def get_action(self, state):\n",
        "        return int(self.policy[state])"
      ]
    },
    {
      "cell_type": "markdown",
      "metadata": {
        "id": "ZM_4gpWheeWV"
      },
      "source": [
        "Compare the performances of $\\pi^*$ with $\\pi^{\\text{unif}}$ and $\\pi^{\\text{thresh}}$ on 100 blackjack with dice games.  "
      ]
    },
    {
      "cell_type": "code",
      "execution_count": 11,
      "metadata": {
        "id": "oh8XbJysevc8"
      },
      "outputs": [
        {
          "name": "stdout",
          "output_type": "stream",
          "text": [
            "mean +- std of the score of the opt policy: 17.71 +/- 1.4303496076134672\n"
          ]
        }
      ],
      "source": [
        "# TODO\n",
        "pol_opt = PolicyFromV(blackjack_dice, V).get_action\n",
        "# Let us check the average performance of the threshold policy on 100 blackjack with dice games.\n",
        "policy_opt_eval = []\n",
        "for episodes in range(100):\n",
        "    policy_opt_eval.append(blackjack_dice.one_episode(pol_opt))\n",
        "\n",
        "\n",
        "print(\"mean +- std of the score of the opt policy: {} +/- {}\".format(np.mean(policy_opt_eval), np.std(policy_opt_eval)))"
      ]
    },
    {
      "cell_type": "markdown",
      "metadata": {
        "id": "pNhciod9hR17"
      },
      "source": [
        "Interpret your policy. Can you explain how your policy $\\pi^*$ plays blackjack with dice ?"
      ]
    },
    {
      "cell_type": "markdown",
      "metadata": {
        "id": "p7Sr83tLimBL"
      },
      "source": [
        "## 2.4 State-action values $Q^{\\pi}(s,a)$\n",
        "Similarly to $V^{\\pi}(s)$ it is possible to define the state-aciton value of $s,a$ when following policy $\\pi$. The state-action value $Q^{\\pi}(s,a)$ is the expected cumulative reward obtained by $\\pi$ over MDP episodes when starting the episodes in $s_0 = s$ and choosing $a_0 = a$. \\\n",
        "$Q^{\\pi}(s,a) = \\underset{s'\\in S}{\\sum} P(s'|s, a)(R(s, a, s') + \\gamma V^{\\pi}(s'))$\\\n",
        "We also have: \\\n",
        "$Q^*(s,a) = \\underset{s'\\in S}{\\sum} P(s'|s, a)(R(s, a, s') + \\gamma{\\operatorname{max}}Q^*(s',a'))$"
      ]
    },
    {
      "cell_type": "markdown",
      "metadata": {
        "id": "mUJkdPRFfWgK"
      },
      "source": [
        "# 3. Reinforcement Learning.\n",
        "By contrast with dynamic programming, a reinforcement learning agent is used when the MDP is unknown. More precisely, the state and action are known, but the agent does not know the transition nor the reward function.\n",
        "## 3.1 Q-Learning\n",
        "The Q-learning algorithm learns an estimate $\\hat{Q}$ of $Q^*$. It does so without an MDP transition probability model: it is a model-free RL algorithms. Q-learning collects transitions $(s,a,r,s')$ following a behaviour policy $\\pi^B$. For each collected transitions, $\\hat{Q}$ is updated as follows:\\\n",
        "$\\hat{Q}(s,a) \\leftarrow \\hat{Q}(s,a) + \\alpha \\delta$\\\n",
        "Where $\\delta$ is the temporal difference error:\\\n",
        "$r + \\gamma \\underset{a'}{\\operatorname{max}}\\hat{Q}(s',a') - \\hat{Q}(s,a)$\\\n",
        "The behaviour policy trades-off exploration and exploitation when collecting transitions in the MDP. For example, $\\pi^B$ can be the epsilon-greedy policy:\\\n",
        "$\\pi^\\epsilon(s) = \\pi^{\\text{unif}}, \\text{ if } \\epsilon < 0.3$\\\n",
        "$\\pi^\\epsilon(s) = \\underset{a}{\\operatorname{argmax}}\\hat{Q}(s, a), \\text{ else }$\n",
        "## 3.2 Exercise 5: Implement the Q-Learning algorithm\n",
        "[Q-Learning algorithm](http://incompleteideas.net/book/ebook/node65.html)"
      ]
    },
    {
      "cell_type": "code",
      "execution_count": 12,
      "metadata": {
        "id": "ZnjXuTUw89oM"
      },
      "outputs": [],
      "source": [
        "def QLearning(mdp, behaviour_pol, alpha=0.1, nb_iter=int(1e4)):\n",
        "    Qhat = np.zeros((mdp.nb_states, mdp.nb_actions))\n",
        "    list_Qs = []\n",
        "    s = mdp.reset()\n",
        "    for _ in range(nb_iter):\n",
        "        a = behaviour_pol(s, Qhat)\n",
        "        s_next, r, done = mdp.step(a)\n",
        "\n",
        "        if done:\n",
        "            Qhat[s, a] = r\n",
        "            s = mdp.reset()\n",
        "        else:\n",
        "            delta = r + mdp.gamma * np.max(Qhat[s_next,:]) - Qhat[s,a] # TODO\n",
        "            Qhat[s, a] = Qhat[s,a] + alpha * delta # TODO\n",
        "            list_Qs.append(Qhat.copy())\n",
        "            s = s_next\n",
        "\n",
        "    return Qhat, list_Qs\n",
        "\n",
        "class EpsGreedyPolicy(Policy):\n",
        "    def __init__(self, mdp, epsilon):\n",
        "        self.mdp = mdp\n",
        "        self.eps = epsilon\n",
        "\n",
        "    def get_action(self, state, Q):\n",
        "        if np.random.random() < self.eps:\n",
        "            return np.random.randint(self.mdp.nb_actions)\n",
        "        else:\n",
        "            return np.argmax(Q[state, :])"
      ]
    },
    {
      "cell_type": "markdown",
      "metadata": {
        "id": "Fyd5P8UfCZ3L"
      },
      "source": [
        "Try Q-Learning to learn an estimate of the optimal state-action value function of the blackjack with dice MDP.\n",
        "- Visualize $\\hat{Q}$ returned by Q-Learning (use $\\texttt{plt.imshow()}$). Does this Q function makes sense ?\n",
        "- Make a plot to compare the convergence of $\\hat{Q}$ over iterations for different values of $\\epsilon$ and different learning rates $\\alpha$.\n",
        "- Compare the performance of the greedy policy $\\pi^{\\text{greedy}}(s) = \\underset{a}{\\operatorname{argmax}}\\hat{Q}(s, a)$ with other policies (uniform, threshold, $\\pi^*$) on 100 episodes."
      ]
    },
    {
      "cell_type": "code",
      "execution_count": 13,
      "metadata": {
        "id": "ANQxsvF3ELTF"
      },
      "outputs": [],
      "source": [
        "pol_behaviour = EpsGreedyPolicy(blackjack_dice, epsilon=0.3).get_action\n",
        "q, list_Qs= QLearning(blackjack_dice, pol_behaviour)\n",
        "# TODO"
      ]
    },
    {
      "cell_type": "code",
      "execution_count": 14,
      "metadata": {},
      "outputs": [
        {
          "data": {
            "text/plain": [
              "[<matplotlib.lines.Line2D at 0x7f1f43160520>]"
            ]
          },
          "execution_count": 14,
          "metadata": {},
          "output_type": "execute_result"
        },
        {
          "data": {
            "image/png": "[encoded data removed]",
            "text/plain": [
              "<Figure size 640x480 with 1 Axes>"
            ]
          },
          "metadata": {},
          "output_type": "display_data"
        }
      ],
      "source": [
        "plt.plot([np.linalg.norm(q_i) for q_i in list_Qs])"
      ]
    },
    {
      "cell_type": "code",
      "execution_count": 15,
      "metadata": {},
      "outputs": [
        {
          "data": {
            "text/plain": [
              "<matplotlib.image.AxesImage at 0x7f1f43077400>"
            ]
          },
          "execution_count": 15,
          "metadata": {},
          "output_type": "execute_result"
        },
        {
          "data": {
            "image/png": "[encoded data removed]",
            "text/plain": [
              "<Figure size 640x480 with 1 Axes>"
            ]
          },
          "metadata": {},
          "output_type": "display_data"
        }
      ],
      "source": [
        "plt.imshow(q.T)\n"
      ]
    },
    {
      "cell_type": "markdown",
      "metadata": {
        "id": "FIL-xYROmRhm"
      },
      "source": [
        "# 4. Homework: Maze MDPs and Reinforcement Learning.\n",
        "This homework is open to interpretation and implementation. You can work in pairs.\n",
        "\n",
        "## Deadline 17/01/2024 23:59 email to hector.kohler@inria.fr\n",
        "\n",
        "- Exercise 1: implement a Maze MDP generator. Mazes are often use to benchmark new RL algorithms. One can think of a maze MDP as rectangle divided in cells. Each cells is a MDP state. The upper left cell is the initial state and the bottom right is the exit. Walls should be placed at random in the MDP: this will be done by specifying a fraction of cell states that are non-accessible. There are 4 actions in a maze MDP: left, right, up, dowm. All state-action pairs give a 0 reward, except a state-pair that leads to the exit (terminal) state in the bottom right cell.\n",
        "    - How to make sure that a generated maze can be exited ? You can try checking $V^*(s_{start}) > 0$.\n",
        "    - Your Maze MDP generator should take as arguments: a width, a height, and a fraction of cell walls. |S| = witdh x height.\n",
        "- Exercise 2: in a 3-pages report, present the performances of Q-Learning on maze MDPs.\n",
        "    - Compare eps-greedy policy and softmax behaviour policy.\n",
        "    - Compare different values of the exploration parameters (epsilon for eps-greedy and tau for softmax).\n",
        "    - Compare different learning rates.\n",
        "    - Compare different sizes and difficluties of Maze MDPs.\n",
        "    - Check that your learned Q functions make sense.\n",
        "- In general, describe your experiments and do not put too much figures (choose a few convincing figures) and then describe what you observe and try to understand if it makes sense."
      ]
    }
  ],
  "metadata": {
    "colab": {
      "provenance": []
    },
    "kernelspec": {
      "display_name": "Python 3",
      "name": "python3"
    },
    "language_info": {
      "codemirror_mode": {
        "name": "ipython",
        "version": 3
      },
      "file_extension": ".py",
      "mimetype": "text/x-python",
      "name": "python",
      "nbconvert_exporter": "python",
      "pygments_lexer": "ipython3",
      "version": "3.10.12"
    }
  },
  "nbformat": 4,
  "nbformat_minor": 0
}
