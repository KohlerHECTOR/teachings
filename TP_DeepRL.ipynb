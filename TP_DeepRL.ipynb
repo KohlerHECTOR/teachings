{
 "cells": [
  {
   "cell_type": "markdown",
   "metadata": {},
   "source": [
    "# Deep Reinforcement Learning, due 5/12/2022."
   ]
  },
  {
   "cell_type": "code",
   "execution_count": null,
   "metadata": {},
   "outputs": [],
   "source": [
    "import torch as th\n",
    "import numpy as np\n",
    "import gym\n",
    "import matplotlib.pyplot as plt"
   ]
  },
  {
   "cell_type": "code",
   "execution_count": null,
   "metadata": {},
   "outputs": [],
   "source": [
    "env = gym.make(\"CartPole-v1\")"
   ]
  },
  {
   "cell_type": "markdown",
   "metadata": {},
   "source": [
    "## Exercise 1: Implement the Fitted Q-Iteration Algorithm"
   ]
  },
  {
   "cell_type": "markdown",
   "metadata": {},
   "source": [
    "### Task A: Implement a Q-Network class: a Q-function S X A-> |R approximated by a neural network."
   ]
  },
  {
   "cell_type": "code",
   "execution_count": null,
   "metadata": {},
   "outputs": [],
   "source": [
    "class Q(th.nn.Module):\n",
    "    def __init__(self, env, hidden_size=64, hidden_layers = 2, activ=th.nn.ReLU, optimizer=th.optim.Adam):\n",
    "        super().__init__()\n",
    "        self.env = env\n",
    "        \n",
    "        self.layers = ...\n",
    "        \n",
    "        self.optimizer = optimizer(self.parameters())\n",
    "        self.optimizer.zero_grad()\n",
    "\n",
    "    def forward(self, states_actions ):\n",
    "        ...\n",
    "        return q_s_a\n",
    "    \n",
    "    def get_best_action(self, state):\n",
    "        with torch.no_grad():\n",
    "            ...\n",
    "        return best_action"
   ]
  },
  {
   "cell_type": "code",
   "execution_count": null,
   "metadata": {},
   "outputs": [],
   "source": [
    "#test your Q network\n",
    "q = Q(test_environment)\n",
    "\n",
    "#data collection\n",
    "batch_size = 32\n",
    "batch = np.zeros((batch_size, 2 * env.observation_space.shape[0] + 3)) #batch size X s + a + r + snext + done\n",
    "s = env.reset()\n",
    "for i in range(batch_size):\n",
    "    s = env.observation_space.sample()\n",
    "    env.state = s\n",
    "    a = env.action_space.sample()\n",
    "    snext, r, done, infos = env.step(a)\n",
    "    transition = np.array([*s, a, r, *snext, int(done)])\n",
    "    batch[i] = transition\n",
    "    if done:\n",
    "        s = env.reset()\n",
    "    else:\n",
    "        s = snext\n",
    "    \n",
    "#convert batch of np.arrays to tensors\n",
    "batch = th.FloatTensor(batch)\n",
    "states_actions_tensors = batch[:, :env.observation_space.shape[0] + 1]\n",
    "#Check the output size of your Q-network\n",
    "assert q.forward(states_actions_tensors).size(1) == 1"
   ]
  },
  {
   "cell_type": "markdown",
   "metadata": {},
   "source": [
    "### Task B: write a function to fit your Q-network on a batch of transitions."
   ]
  },
  {
   "cell_type": "code",
   "execution_count": null,
   "metadata": {},
   "outputs": [],
   "source": [
    "MSE = th.nn.MSELoss()\n",
    "def fit(Q, batch, gamma = 0.99):\n",
    "    predictions = ...\n",
    "    targets = ...\n",
    "    loss = MSE(prefictions, targets)\n",
    "    loss.backward()\n",
    "    Q.optimizer.zero_grad()   \n",
    "    return loss.item()"
   ]
  },
  {
   "cell_type": "markdown",
   "metadata": {},
   "source": [
    "### Task C: test fitted Q-Iteration on CartPole and Acrobot and extract some policies."
   ]
  },
  {
   "cell_type": "code",
   "execution_count": null,
   "metadata": {},
   "outputs": [],
   "source": [
    "cartpole = gym.make(\"CartPole-v1\")\n",
    "acrobot = gym.make(\"Acrobot-v1\")\n",
    "\n",
    "def fittedQiter(env, iterations = 100, batch_size = 32):\n",
    "    qnet = Q(env)\n",
    "    losses = []\n",
    "    \n",
    "    for it in range(iterations):\n",
    "        #1. get a batch\n",
    "        batch = np.zeros((batch_size, 2 * env.observation_space.shape[0] + 3)) \n",
    "        ...\n",
    "        #2. fit Q-network on batch\n",
    "        loss = fit(qnet, batch)\n",
    "        losses.append(loss)\n",
    "    \n",
    "    return qnet, losses\n",
    "\n",
    "\n",
    "def policy(qnet, s):\n",
    "    ...\n",
    "    return action.item()\n",
    "\n",
    "def evaluate(env, qnet, nb_episode = 100):\n",
    "    scores = []\n",
    "    for i in range(nb_episode):\n",
    "        cumulative_reward = 0\n",
    "        s = env.reset()\n",
    "        done = False\n",
    "        while not done:\n",
    "            ...\n",
    "        scores.append(cumulative_reward)\n",
    "    return scores\n",
    "\n",
    "#plot losses and analyse evaluations"
   ]
  },
  {
   "cell_type": "markdown",
   "metadata": {},
   "source": [
    "## Exercise 2: Implement the Deep Q-Networks algorithm with a replay buffer and study its performance on Acrobot and Cartpole."
   ]
  }
 ],
 "metadata": {
  "kernelspec": {
   "display_name": "Python 3",
   "language": "python",
   "name": "python3"
  },
  "language_info": {
   "codemirror_mode": {
    "name": "ipython",
    "version": 3
   },
   "file_extension": ".py",
   "mimetype": "text/x-python",
   "name": "python",
   "nbconvert_exporter": "python",
   "pygments_lexer": "ipython3",
   "version": "3.8.10"
  }
 },
 "nbformat": 4,
 "nbformat_minor": 4
}
