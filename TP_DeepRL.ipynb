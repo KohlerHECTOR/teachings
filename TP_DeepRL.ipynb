{
 "cells": [
  {
   "cell_type": "markdown",
   "metadata": {},
   "source": [
    "# Deep Reinforcement Learning, due 5/12/2022."
   ]
  },
  {
   "cell_type": "code",
   "execution_count": 53,
   "metadata": {},
   "outputs": [],
   "source": [
    "import torch as th\n",
    "import numpy as np\n",
    "import gym\n",
    "import matplotlib.pyplot as plt\n",
    "from tqdm import tqdm"
   ]
  },
  {
   "cell_type": "markdown",
   "metadata": {},
   "source": [
    "## Exercise 1: Implement the Neural Fitted Q-Iteration Algorithm"
   ]
  },
  {
   "cell_type": "markdown",
   "metadata": {},
   "source": [
    "### Task A: Implement a Q-Network class: a Q-function S X A-> |R approximated by a neural network."
   ]
  },
  {
   "cell_type": "code",
   "execution_count": 68,
   "metadata": {},
   "outputs": [],
   "source": [
    "class Q(th.nn.Module):\n",
    "    def __init__(self, env, hidden_size=64, hidden_layers = 2, activ=th.nn.ReLU, optimizer=th.optim.Adam):\n",
    "        super().__init__()\n",
    "        self.env = env\n",
    "        \n",
    "        self.layers = th.nn.Sequential(th.nn.Linear(self.env.observation_space.shape[0]+1, hidden_size),\n",
    "                                      activ(),\n",
    "                                      th.nn.Linear(hidden_size,hidden_size),\n",
    "                                      activ(),\n",
    "                                      th.nn.Linear(hidden_size, 1))\n",
    "        \n",
    "        self.optimizer = optimizer(self.parameters())\n",
    "        self.optimizer.zero_grad()\n",
    "\n",
    "    def forward(self, states_actions ):\n",
    "        q_s_a = self.layers(states_actions)\n",
    "        return q_s_a\n",
    "    \n",
    "    def get_best_action(self, state):\n",
    "        best = -np.inf\n",
    "        best_a = 0\n",
    "        with th.no_grad():\n",
    "            for a in range(self.env.action_space.n):\n",
    "                val = self.forward(th.FloatTensor(np.append(state,[a])))\n",
    "                if val> best:\n",
    "                    best = val\n",
    "                    best_a = a\n",
    "        return best, best_a"
   ]
  },
  {
   "cell_type": "markdown",
   "metadata": {},
   "source": [
    "### Task B: write a function to fit your Q-network on a batch of transitions."
   ]
  },
  {
   "cell_type": "code",
   "execution_count": 69,
   "metadata": {},
   "outputs": [],
   "source": [
    "MSE = th.nn.MSELoss()\n",
    "def fit(Q, batch, gamma = 0.99):\n",
    "    #batch size X : s + a + r + snext + done\n",
    "    Q.optimizer.zero_grad()\n",
    "    \n",
    "    \n",
    "    predictions = Q.forward(batch[:, :Q.env.observation_space.shape[0] + 1]) #On récup Q(s,a)\n",
    "    r = batch[:, Q.env.observation_space.shape[0] + 1:Q.env.observation_space.shape[0] + 2] #On récup le r\n",
    "    s_next = batch[:, Q.env.observation_space.shape[0] + 2:-1] #On récup s'\n",
    "    dones = batch[:,-1]\n",
    "    targs = th.zeros_like(dones)\n",
    "    for i, s in enumerate(s_next):\n",
    "        targs[i] = ( r[i] + gamma * Q.get_best_action(s)[0] * (1 - dones[i]))\n",
    "    \n",
    "    loss = MSE(predictions, targs)\n",
    "    loss.backward()  \n",
    "    Q.optimizer.step()\n",
    "    \n",
    "    return loss.item()"
   ]
  },
  {
   "cell_type": "markdown",
   "metadata": {},
   "source": [
    "### Task C: test Neural Fitted Q-Iteration on CartPole and Acrobot and extract some policies."
   ]
  },
  {
   "cell_type": "code",
   "execution_count": 73,
   "metadata": {},
   "outputs": [
    {
     "name": "stderr",
     "output_type": "stream",
     "text": [
      "  0%|          | 0/1000 [00:00<?, ?it/s]/home/hkohler/.local/lib/python3.8/site-packages/torch/nn/modules/loss.py:529: UserWarning: Using a target size (torch.Size([100])) that is different to the input size (torch.Size([100, 1])). This will likely lead to incorrect results due to broadcasting. Please ensure they have the same size.\n",
      "  return F.mse_loss(input, target, reduction=self.reduction)\n",
      "100%|██████████| 1000/1000 [00:23<00:00, 42.83it/s]\n"
     ]
    }
   ],
   "source": [
    "cartpole = gym.make(\"CartPole-v0\")\n",
    "\n",
    "def nfq(env, iterations = 1000, batch_size = 100,activ=th.nn.ReLU,gamma = 0.99):\n",
    "    qnet = Q(env,activ=activ)\n",
    "    losses = []\n",
    "    for it in tqdm(range(iterations)):\n",
    "        #1. get a batch\n",
    "        batch = np.zeros((batch_size, 2 * env.observation_space.shape[0] + 3))\n",
    "        s = env.reset()\n",
    "        for i in range(batch_size):           \n",
    "            a = env.action_space.sample()\n",
    "            snext, r, done, infos = env.step(a)\n",
    "            transition = np.array([*s, a, r, *snext, int(done)])\n",
    "            batch[i] = transition\n",
    "            if done:\n",
    "                s = env.reset()\n",
    "            else:\n",
    "                s = snext\n",
    "                \n",
    "        #convert batch of np.arrays to tensors\n",
    "        batch = th.FloatTensor(batch)\n",
    "        \n",
    "        #2. fit Q-network on batch\n",
    "        loss = fit(qnet, batch, gamma=gamma)\n",
    "        losses.append(loss)\n",
    "    \n",
    "    return qnet, losses\n",
    "\n",
    "\n",
    "def policy(qnet, s):\n",
    "    _,action = qnet.get_best_action(s)\n",
    "    return action\n",
    "\n",
    "def evaluate(env, qnet, nb_episode = 100):\n",
    "    scores = []\n",
    "    for i in range(nb_episode):\n",
    "        cumulative_reward = 0\n",
    "        s = env.reset()\n",
    "        done = False\n",
    "        \n",
    "        while not done:\n",
    "            env.state = s\n",
    "            a = policy(qnet, th.tensor(s))\n",
    "            next_state, reward, done, info = env.step(a)\n",
    "            cumulative_reward += reward\n",
    "            s = next_state.copy()\n",
    "            \n",
    "        scores.append(cumulative_reward)\n",
    "    return scores\n",
    "\n",
    "#plot losses and analyse evaluations\n",
    "\n",
    "\n",
    "q, losses = nfq(cartpole)"
   ]
  },
  {
   "cell_type": "code",
   "execution_count": 74,
   "metadata": {},
   "outputs": [
    {
     "data": {
      "image/png": "[encoded data removed]",
      "text/plain": [
       "<Figure size 640x480 with 1 Axes>"
      ]
     },
     "metadata": {},
     "output_type": "display_data"
    }
   ],
   "source": [
    "plt.plot(losses)\n",
    "plt.show()\n",
    "evals = evaluate(cartpole, q)"
   ]
  },
  {
   "cell_type": "code",
   "execution_count": 75,
   "metadata": {},
   "outputs": [
    {
     "data": {
      "text/plain": [
       "41.92"
      ]
     },
     "execution_count": 75,
     "metadata": {},
     "output_type": "execute_result"
    }
   ],
   "source": [
    "np.array(evals).mean()"
   ]
  },
  {
   "cell_type": "markdown",
   "metadata": {},
   "source": [
    "## Exercise 2: Implement the Deep Q-Networks algorithm with a replay buffer and study its performance on Acrobot and Cartpole.  \n",
    "### Bonus: Implement DQN + raplay + target Q-Network and compare its performances with DQN + replay."
   ]
  }
 ],
 "metadata": {
  "kernelspec": {
   "display_name": "Python 3",
   "language": "python",
   "name": "python3"
  },
  "language_info": {
   "codemirror_mode": {
    "name": "ipython",
    "version": 3
   },
   "file_extension": ".py",
   "mimetype": "text/x-python",
   "name": "python",
   "nbconvert_exporter": "python",
   "pygments_lexer": "ipython3",
   "version": "3.8.10"
  }
 },
 "nbformat": 4,
 "nbformat_minor": 4
}
