{
  "cells": [
    {
      "cell_type": "markdown",
      "metadata": {
        "id": "Hr2tPjlrf-rP"
      },
      "source": [
        "# Practice Session 1: Policy and Value Iteration\n",
        "\n",
        "[![Open In Colab](https://colab.research.google.com/assets/colab-badge.svg)](https://colab.research.google.com/github/rlsummerschool/practical-sessions/blob/master/notebooks/DP_practice.ipynb)"
      ]
    },
    {
      "cell_type": "code",
      "execution_count": 1,
      "metadata": {
        "id": "VYZ_hFDkXuY0",
        "outputId": "437f743a-50ca-45c1-b4e5-5211a2b88e2c",
        "colab": {
          "base_uri": "https://localhost:8080/"
        }
      },
      "outputs": [
        {
          "output_type": "stream",
          "name": "stdout",
          "text": [
            "  Installing build dependencies ... \u001b[?25l\u001b[?25hdone\n",
            "  Getting requirements to build wheel ... \u001b[?25l\u001b[?25hdone\n",
            "  Preparing metadata (pyproject.toml) ... \u001b[?25l\u001b[?25hdone\n",
            "\u001b[2K     \u001b[90m━━━━━━━━━━━━━━━━━━━━━━━━━━━━━━━━━━━━━━━\u001b[0m \u001b[32m103.1/103.1 kB\u001b[0m \u001b[31m3.9 MB/s\u001b[0m eta \u001b[36m0:00:00\u001b[0m\n",
            "\u001b[2K     \u001b[90m━━━━━━━━━━━━━━━━━━━━━━━━━━━━━━━━━━━━━━\u001b[0m \u001b[32m925.5/925.5 kB\u001b[0m \u001b[31m21.9 MB/s\u001b[0m eta \u001b[36m0:00:00\u001b[0m\n",
            "\u001b[?25h  Building wheel for rlss-practice (pyproject.toml) ... \u001b[?25l\u001b[?25hdone\n"
          ]
        }
      ],
      "source": [
        "# Set up the environment (not needed for local installations)\n",
        "!pip install \"git+https://github.com/rlsummerschool/practical-sessions.git\" --quiet\n",
        "\n",
        "import time\n",
        "import random"
      ]
    },
    {
      "cell_type": "markdown",
      "metadata": {
        "id": "CFtCdzEI9gHZ"
      },
      "source": [
        "## RL development in Python\n",
        "\n",
        "Large RL projects are usually developed locally, as any other Python package, in OOP, version controlled by Git (see [example](https://github.com/rlsummerschool/practical-sessions/blob/master/rlss_practice/environments.py)).\n",
        "\n",
        "[Jupyter](https://jupyter.org/) notebooks, like this one, are collections of text cells and code cells, that can be executed with an interactive interpreter.\n",
        "Colab notebooks are Jupyter notebooks whose interpreter runs in a runtime that is hosted by Google."
      ]
    },
    {
      "cell_type": "markdown",
      "metadata": {
        "id": "yqPq-DrFG3se"
      },
      "source": [
        "### Environments and tasks\n",
        "\n",
        "An MDP is a model of Reinforcement Learning tasks. It comprises of:\n",
        "* a **state space** $\\mathcal{S}$\n",
        "* a **action space** $\\mathcal{A}$\n",
        "* a **starting-state distribution** $\\nu_0(s)$\n",
        "* a **reward function** $r: \\mathcal{S}\\times\\mathcal{A}\\rightarrow [0,1]$ (or vector $r\\in[0,1]^{|\\mathcal{S}|\\cdot|\\mathcal{A}|}$)\n",
        "* a **transition function** $p: \\mathcal{S}\\times\\mathcal{A}\\rightarrow \\Delta_{\\mathcal{S}}$ (or matrix $p \\in\\mathbb{R}^{|\\mathcal{S}|\\cdot|\\mathcal{A}|\\times|\\mathcal{S}|}$)\n",
        "\n",
        "where $\\Delta_{\\mathcal{S}} = \\{q\\in\\mathbb{R}^{|\\mathcal{S}|} \\,\\,|\\,\\, \\sum_{s\\in\\mathcal{S}}q(s) = 1,\\, q(s)\\geq 0 \\text{ for } s\\in\\mathcal{S}\\}$"
      ]
    },
    {
      "cell_type": "markdown",
      "metadata": {
        "id": "PsQticuSJmdO"
      },
      "source": [
        "Interaction between an agent (or decision maker) and some environment (or task) in some round $t$:\n",
        "\n",
        "<div>\n",
        "<img src=\"https://drive.google.com/uc?export=view&id=11KyhHxuaileBEJ9fFZmIS5-GzncQgyqt\" alt=\"agent-environment interaction\" width=\"600\"/>\n",
        "</div>\n",
        "\n",
        "The agent is equipped with a policy $\\pi$ mapping states to actions (or a distribution over actions)."
      ]
    },
    {
      "cell_type": "markdown",
      "metadata": {
        "id": "ob8WriuZLh-g"
      },
      "source": [
        "### The Gym(nasium) interface\n",
        "\n",
        "[Gymnasium](https://gymnasium.farama.org/) is a standard API for Decision Processes, based on OpenAI's Gym library."
      ]
    },
    {
      "cell_type": "code",
      "execution_count": 2,
      "metadata": {
        "id": "JgaqoJNTOi6o",
        "outputId": "bc17dcdf-7ffc-484c-9f27-200fc2fd00ed",
        "colab": {
          "base_uri": "https://localhost:8080/"
        }
      },
      "outputs": [
        {
          "output_type": "stream",
          "name": "stdout",
          "text": [
            "pygame 2.4.0 (SDL 2.26.4, Python 3.10.12)\n",
            "Hello from the pygame community. https://www.pygame.org/contribute.html\n"
          ]
        }
      ],
      "source": [
        "# Standard import\n",
        "import gymnasium as gym\n",
        "from gymnasium import Env"
      ]
    },
    {
      "cell_type": "markdown",
      "metadata": {
        "id": "yDwwk5BL1eRQ"
      },
      "source": [
        "The library also defines a number of classic benchmarks [Atari](https://gymnasium.farama.org/environments/atari/) games, [MuJoCo](https://gymnasium.farama.org/environments/mujoco/) simulations, and [ToyText](https://gymnasium.farama.org/environments/toy_text/), minimal environments for debugging.\n"
      ]
    },
    {
      "cell_type": "code",
      "execution_count": 3,
      "metadata": {
        "id": "DlzPIsH23hpE",
        "outputId": "0cd52d11-297e-47b8-a4d7-359ba407a163",
        "colab": {
          "base_uri": "https://localhost:8080/"
        }
      },
      "outputs": [
        {
          "output_type": "stream",
          "name": "stdout",
          "text": [
            "Discrete(4)\n",
            "Discrete(48)\n"
          ]
        }
      ],
      "source": [
        "# A registered environment (for example Cliff Walking) can be instantiated with\n",
        "env = gym.make(\"CliffWalking-v0\")\n",
        "\n",
        "# Important properties:\n",
        "print(env.action_space)\n",
        "print(env.observation_space)"
      ]
    },
    {
      "cell_type": "markdown",
      "metadata": {
        "id": "XXhGGkAI7XEh"
      },
      "source": [
        "We only consider discrete state and action spaces. See the possible alternatives: `dir(gym.spaces)`\n",
        "\n",
        "Environments can be fully observable, partially observable or non-stationary. All these variants fit the same environment interface.\n",
        "We should know which class our environment belongs to.\n",
        "Today, we only consider stationary and fully observable MDPs."
      ]
    },
    {
      "cell_type": "markdown",
      "metadata": {
        "id": "fNcySyOGACgZ"
      },
      "source": [
        "The environment interface allows  to sample initial states and transition with `env.reset()` and `env.step(action)`. Every method is well documented (see `help(gym.Env.step)`).\n",
        "\n",
        "Try it out!"
      ]
    },
    {
      "cell_type": "code",
      "execution_count": 4,
      "metadata": {
        "id": "Wnymj388egTo",
        "outputId": "550f1eec-8634-468d-c672-ab0dc6ff051f",
        "colab": {
          "base_uri": "https://localhost:8080/"
        }
      },
      "outputs": [
        {
          "output_type": "stream",
          "name": "stdout",
          "text": [
            "Initial observation: 36\n",
            "Observation: 24, reward -1\n",
            "Observation: 12, reward -1\n",
            "Observation: 0, reward -1\n"
          ]
        }
      ],
      "source": [
        "observation, info = env.reset()\n",
        "print(f\"Initial observation: {observation}\")\n",
        "\n",
        "action = 0  # any action\n",
        "\n",
        "observation, reward, terminated, truncated, info = env.step(action)\n",
        "print(f\"Observation: {observation}, reward {reward}\")\n",
        "\n",
        "observation, reward, terminated, truncated, info = env.step(action)\n",
        "print(f\"Observation: {observation}, reward {reward}\")\n",
        "\n",
        "observation, reward, terminated, truncated, info = env.step(action)\n",
        "print(f\"Observation: {observation}, reward {reward}\")"
      ]
    },
    {
      "cell_type": "markdown",
      "metadata": {
        "id": "5xffKa7UfiOC"
      },
      "source": [
        "Custom environments can be created by subclassing the `Env` class.\n",
        "\n",
        "Environments can be also modified with wrappers. See the predefined Gymnasium [Wrappers](https://gymnasium.farama.org/api/wrappers/#gymnasium-wrappers)."
      ]
    },
    {
      "cell_type": "markdown",
      "metadata": {
        "id": "gHgub_3DH-9V"
      },
      "source": [
        "## Setting up our RL task\n",
        "\n"
      ]
    },
    {
      "cell_type": "markdown",
      "metadata": {
        "id": "_QotsgLalKv4"
      },
      "source": [
        "We experiment with a simple grid-world environment, based on the implementation in [minigrid](https://minigrid.farama.org/environments/minigrid/). The environment is configured and observations are transformed appropriately (you already know how)."
      ]
    },
    {
      "cell_type": "code",
      "execution_count": 5,
      "metadata": {
        "id": "dzPxVxymjlZr",
        "outputId": "894fadd7-38a9-4a9f-c320-d76c6dc3bc74",
        "colab": {
          "base_uri": "https://localhost:8080/"
        }
      },
      "outputs": [
        {
          "output_type": "stream",
          "name": "stdout",
          "text": [
            "WWWWW\n",
            "W>  W\n",
            "W   W\n",
            "W  GW\n",
            "WWWWW\n"
          ]
        }
      ],
      "source": [
        "from rlss_practice.environments import Room, MinigridBase\n",
        "\n",
        "\n",
        "# Initializing the environment\n",
        "env = Room(\n",
        "    failure=0.0,\n",
        "    agent_start_pos=(1, 1),\n",
        "    agent_start_dir=0,\n",
        "    size=5,\n",
        ")\n",
        "print(env)"
      ]
    },
    {
      "cell_type": "markdown",
      "metadata": {
        "id": "AA74pMHsl_be"
      },
      "source": [
        "In this ASCII representation, > is the agent, facing right, G is the goal, and W are walls.\n",
        "\n",
        "Understand you own environment:"
      ]
    },
    {
      "cell_type": "code",
      "execution_count": 6,
      "metadata": {
        "id": "pY4EV-n0mH-d",
        "outputId": "050d45c3-d74d-46af-bb52-0a993319ff50",
        "colab": {
          "base_uri": "https://localhost:8080/"
        }
      },
      "outputs": [
        {
          "output_type": "stream",
          "name": "stdout",
          "text": [
            "Action space: Discrete(3)\n",
            "Observation space: MultiDiscrete([5 5 4])\n",
            "\n"
          ]
        }
      ],
      "source": [
        "print(\"Action space:\", env.action_space)\n",
        "print(\"Observation space:\", env.observation_space, end=\"\\n\\n\")\n",
        "#print(help(MinigridBase))"
      ]
    },
    {
      "cell_type": "markdown",
      "metadata": {
        "id": "Tk3VBz-ZmsvM"
      },
      "source": [
        "When you checkout `help(env)`:\n",
        "\n",
        "    class MinigridBase\n",
        "       MinigridBase(minigrid: minigrid.minigrid_env.MiniGridEnv, seed: int, failure=0.0)\n",
        "\n",
        "       Base class for minigrid environments with explicit transition and reward functions.\n",
        "\n",
        "       The agent is rewarded upon reaching the goal location.\n",
        "\n",
        "       Action space:\n",
        "\n",
        "       | Num | Name         | Action       |\n",
        "       |-----|--------------|--------------|\n",
        "       | 0   | left         | Turn left    |\n",
        "       | 1   | right        | Turn right   |\n",
        "       | 2   | forward      | Move forward |\n",
        "\n",
        "       Observation space:\n",
        "\n",
        "       | Name | Description             |\n",
        "       |------|-------------------------|\n",
        "       | x    | x coordinate            |\n",
        "       | y    | y coordinate (downward) |\n",
        "       | dir  | cardinal direction      |\n",
        "\n",
        "       The transition function is stored in `T`,\n",
        "       where `T[state][action][next_state]` is the transition probability.\n",
        "       The reward function is `R`. `R[state][action]` contains a reward."
      ]
    },
    {
      "cell_type": "markdown",
      "metadata": {
        "id": "nOD43HaO2M6X"
      },
      "source": [
        "### Demo\n",
        "\n",
        "Here's a rollout loop, for a single trajectory"
      ]
    },
    {
      "cell_type": "code",
      "execution_count": 7,
      "metadata": {
        "id": "ugRanvqJo4RW",
        "outputId": "3ebce8c5-3080-4ae3-ddca-e741ded1b5e4",
        "colab": {
          "base_uri": "https://localhost:8080/"
        }
      },
      "outputs": [
        {
          "output_type": "stream",
          "name": "stdout",
          "text": [
            "Initial observation: [1 1 0]\n",
            "WWWWW\n",
            "W>  W\n",
            "W   W\n",
            "W  GW\n",
            "WWWWW\n",
            "Action: 1\n",
            "Observation: [1 1 1], reward 0.0, terminated False, truncated False\n",
            "WWWWW\n",
            "WV  W\n",
            "W   W\n",
            "W  GW\n",
            "WWWWW\n",
            "Action: 2\n",
            "Observation: [1 2 1], reward 0.0, terminated False, truncated False\n",
            "WWWWW\n",
            "W   W\n",
            "WV  W\n",
            "W  GW\n",
            "WWWWW\n",
            "Action: 1\n",
            "Observation: [1 2 2], reward 0.0, terminated False, truncated False\n",
            "WWWWW\n",
            "W   W\n",
            "W<  W\n",
            "W  GW\n",
            "WWWWW\n",
            "Invalid action or KeyboardInterrupt\n"
          ]
        }
      ],
      "source": [
        "# Test it\n",
        "done = False\n",
        "observation, info = env.reset()\n",
        "print(\"Initial observation:\", observation)\n",
        "print(env)\n",
        "\n",
        "# Steps\n",
        "while not done:\n",
        "\n",
        "    try:\n",
        "      # Action selection\n",
        "\n",
        "      action = int(input(\"Action: \"))\n",
        "\n",
        "      # Transition\n",
        "      observation, reward, terminated, truncated, info = env.step(action)\n",
        "      done = terminated or truncated\n",
        "\n",
        "      print(f\"Observation: {observation}, reward {reward}, terminated {terminated}, truncated {truncated}\")\n",
        "      print(env)\n",
        "\n",
        "    except:\n",
        "      done = True\n",
        "      print(\"Invalid action or KeyboardInterrupt\")\n"
      ]
    },
    {
      "cell_type": "markdown",
      "metadata": {
        "id": "X910eylycXEf"
      },
      "source": [
        "We can define a function that performs `n_trajectories` rollouts on the environment with a given policy. We can also compute arbitrary statistics in the meanwhile."
      ]
    },
    {
      "cell_type": "code",
      "execution_count": 8,
      "metadata": {
        "id": "gU1XQ-ObDqCn"
      },
      "outputs": [],
      "source": [
        "def rollouts(env, policy, n_trajectories, gamma):\n",
        "    \"\"\"Execute policy over env for n_trajectories and compute discounted return.\"\"\"\n",
        "    total_return = 0.0\n",
        "\n",
        "    # Trajectores\n",
        "    for _ in range(n_trajectories):\n",
        "\n",
        "        # Init\n",
        "        discount = 1.0\n",
        "        ret = 0.0\n",
        "        observation, info = env.reset()\n",
        "        done = False\n",
        "\n",
        "        # Steps\n",
        "        while not done:\n",
        "\n",
        "            # Action selection\n",
        "            action = policy(observation)\n",
        "\n",
        "            # Transition\n",
        "            observation, reward, terminated, truncated, info = env.step(action)\n",
        "\n",
        "            done = terminated or truncated\n",
        "            ret += reward * discount\n",
        "            discount *= gamma\n",
        "\n",
        "            if done:\n",
        "                total_return += ret\n",
        "\n",
        "    env.close()\n",
        "    return total_return / n_trajectories"
      ]
    },
    {
      "cell_type": "markdown",
      "metadata": {
        "id": "PmYQPLghM8cy"
      },
      "source": [
        "Since we don't have a policy yet, let's define the uniform one."
      ]
    },
    {
      "cell_type": "code",
      "execution_count": 9,
      "metadata": {
        "id": "Itk9LgVqL-DD"
      },
      "outputs": [],
      "source": [
        "class UniformPolicy():\n",
        "    def __init__(self, n_actions: int):\n",
        "        self.n_actions = n_actions\n",
        "\n",
        "    def __call__(self, observation):\n",
        "        return random.randint(0, self.n_actions-1)"
      ]
    },
    {
      "cell_type": "markdown",
      "metadata": {
        "id": "kQmcdqKt31XT"
      },
      "source": [
        "Let's try:"
      ]
    },
    {
      "cell_type": "code",
      "execution_count": 10,
      "metadata": {
        "id": "qXnOiHr234mn",
        "outputId": "a162d594-7f7b-441a-a8fc-9a374765051b",
        "colab": {
          "base_uri": "https://localhost:8080/"
        }
      },
      "outputs": [
        {
          "output_type": "stream",
          "name": "stdout",
          "text": [
            "0.06171285861857455\n"
          ]
        }
      ],
      "source": [
        "avg_return = rollouts(env=env,\n",
        "                      policy=UniformPolicy(env.action_space.n),\n",
        "                      n_trajectories=20,\n",
        "                      gamma=0.9)\n",
        "\n",
        "print(avg_return)"
      ]
    },
    {
      "cell_type": "markdown",
      "metadata": {
        "id": "qpv9bGrwdtFd"
      },
      "source": [
        "We can also visualize the execution:"
      ]
    },
    {
      "cell_type": "code",
      "execution_count": 11,
      "metadata": {
        "id": "k7_UY2RPOb7v"
      },
      "outputs": [],
      "source": [
        "from rlss_practice.wrappers import Renderer\n",
        "visible_env = Renderer(env)"
      ]
    },
    {
      "cell_type": "code",
      "execution_count": 12,
      "metadata": {
        "id": "P2CieU7A_40i",
        "outputId": "b3071d52-d7a6-4681-d00e-279623677833",
        "colab": {
          "base_uri": "https://localhost:8080/"
        }
      },
      "outputs": [
        {
          "output_type": "stream",
          "name": "stdout",
          "text": [
            "0.0\n"
          ]
        }
      ],
      "source": [
        "avg_return = rollouts(env=visible_env,\n",
        "                      policy=UniformPolicy(env.action_space.n),\n",
        "                      n_trajectories=1,\n",
        "                      gamma=0.9)\n",
        "\n",
        "print(avg_return)"
      ]
    },
    {
      "cell_type": "code",
      "execution_count": 13,
      "metadata": {
        "id": "EbdR7lQQXhXu",
        "outputId": "3e2e49a2-8260-4cbc-cfc1-0e114abcf1aa",
        "colab": {
          "base_uri": "https://localhost:8080/",
          "height": 181
        }
      },
      "outputs": [
        {
          "output_type": "display_data",
          "data": {
            "text/plain": [
              "<IPython.core.display.HTML object>"
            ],
            "text/html": [
              "<video  controls autoplay> <source src=\"data:video/mp4;base64,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\" type=\"video/mp4\"> </video>"
            ]
          },
          "metadata": {}
        }
      ],
      "source": [
        "visible_env.play()"
      ]
    },
    {
      "cell_type": "markdown",
      "metadata": {
        "id": "71rNJIH7xEM2"
      },
      "source": [
        "Finally, a small utility for creating callable objects from state-action mappings"
      ]
    },
    {
      "cell_type": "code",
      "execution_count": 14,
      "metadata": {
        "id": "4KDwEt06qnHI"
      },
      "outputs": [],
      "source": [
        "def make_policy(policy_dict):\n",
        "  \"\"\"Return the policy dictionary as a callable object\"\"\"\n",
        "\n",
        "  def callable_policy(observation):\n",
        "      return policy_dict[tuple(observation.tolist())]\n",
        "\n",
        "  return callable_policy"
      ]
    },
    {
      "cell_type": "markdown",
      "metadata": {
        "id": "srQzHwZTe_gd"
      },
      "source": [
        "### Explicit model\n",
        "\n",
        "The algorithms we will implement require that a complete model of the environment is available, in the form of explicit transition and reward functions. This is not part of the gym interface.\n",
        "\n",
        "These two functions are stored in two members:"
      ]
    },
    {
      "cell_type": "code",
      "execution_count": 15,
      "metadata": {
        "id": "DczwaYuUfqHg",
        "outputId": "accfc9d1-ee8f-4bf5-9216-ff81dbaf6cf1",
        "colab": {
          "base_uri": "https://localhost:8080/"
        }
      },
      "outputs": [
        {
          "output_type": "stream",
          "name": "stdout",
          "text": [
            "A few probabilities\n",
            "1.0\n",
            "0.0\n",
            "1.0\n",
            "\n",
            "A few rewards\n",
            "0.0\n",
            "1.0\n"
          ]
        }
      ],
      "source": [
        "# Transition and reward functions\n",
        "T = env.T\n",
        "R = env.R\n",
        "\n",
        "# These are represented as dictionaries (for maximum clarity)\n",
        "#   and indexed as T[state][action][next_state]\n",
        "print(\"A few probabilities\")\n",
        "print(T[(1, 1, 0)][2][(2, 1, 0)])\n",
        "print(T[(1, 1, 0)][2][(1, 1, 1)])\n",
        "print(T[(3, 1, 0)][1][(3, 1, 1)])\n",
        "\n",
        "#   also R[state][action]\n",
        "print(\"\\nA few rewards\")\n",
        "print(R[(1, 1, 0)][2])\n",
        "print(R[(3, 3, 0)][0])"
      ]
    },
    {
      "cell_type": "code",
      "execution_count": null,
      "metadata": {
        "id": "8XYATMt3xEM3"
      },
      "outputs": [],
      "source": [
        "#env.pretty_print_T()"
      ]
    },
    {
      "cell_type": "code",
      "execution_count": 16,
      "metadata": {
        "id": "lQglr5MOiDCp",
        "outputId": "2481cab3-1946-4de0-9cd2-0b6c0c771054",
        "colab": {
          "base_uri": "https://localhost:8080/"
        }
      },
      "outputs": [
        {
          "output_type": "stream",
          "name": "stdout",
          "text": [
            "States [(1, 1, 0), (1, 1, 1), (1, 1, 2), (1, 1, 3), (1, 2, 0), (1, 2, 1), (1, 2, 2), (1, 2, 3), (1, 3, 0), (1, 3, 1), (1, 3, 2), (1, 3, 3), (2, 1, 0), (2, 1, 1), (2, 1, 2), (2, 1, 3), (2, 2, 0), (2, 2, 1), (2, 2, 2), (2, 2, 3), (2, 3, 0), (2, 3, 1), (2, 3, 2), (2, 3, 3), (3, 1, 0), (3, 1, 1), (3, 1, 2), (3, 1, 3), (3, 2, 0), (3, 2, 1), (3, 2, 2), (3, 2, 3), (3, 3, 0), (3, 3, 1), (3, 3, 2), (3, 3, 3), (0, 0, 0)]\n",
            "Actions [0, 1, 2]\n",
            "Number of states 37\n",
            "Number of actions 3\n"
          ]
        }
      ],
      "source": [
        "# Explicit set of states and actions\n",
        "\n",
        "print(\"States\", env.states)\n",
        "print(\"Actions\", env.actions)\n",
        "print(\"Number of states\", len(env.states))\n",
        "print(\"Number of actions\", len(env.actions))"
      ]
    },
    {
      "cell_type": "code",
      "execution_count": 17,
      "metadata": {
        "id": "XfYfq9HebRHw"
      },
      "outputs": [],
      "source": [
        "# Some classic imports for the rest of the notebook\n",
        "import numpy as np\n",
        "import matplotlib.pyplot as plt\n",
        "import matplotlib as mpl\n",
        "import math\n",
        "\n",
        "mpl.style.use('seaborn-v0_8')"
      ]
    },
    {
      "cell_type": "markdown",
      "metadata": {
        "id": "8L7zlYG8WcPq"
      },
      "source": [
        "## Solving the Minigrid task\n",
        "\n",
        "We would like to find a **stationary deterministic memoryless policy** or mapping from states to actions $\\pi : \\mathcal{S}\\rightarrow \\mathcal{A}$, that is able to arrive at the **goal state** sooner.\n",
        "\n",
        "In other words, our objective is to find $\\pi$ which maximizes the **expected discounted return** from any starting state represented by:\n",
        "\n",
        "\\begin{align*}\n",
        "    \\rho(\\pi) &= \\mathbb{E}_{s_0\\sim\\nu_0, s_{t+1}\\sim p(\\cdot|s_t,\\pi(s_t))}\\left[\\sum_{t=0}^\\infty\\gamma^t r(s_t,\\pi(s_t))\\right]\\\\\n",
        "    &= \\sum_{s}\\nu_0(s) V^{\\pi}(s)\n",
        "\\end{align*}\n",
        "\n",
        "with the **discount factor** $\\gamma\\in[0,1)$.\n",
        "\n",
        "\n",
        "&nbsp;\n",
        "\n",
        "---\n",
        "\n",
        "&nbsp;\n",
        "\n",
        "Recall that the **state value function** for $s\\in \\mathcal{S}$ denoted\n",
        "\n",
        "\\begin{align*}\n",
        "    V^\\pi(s) &= \\mathbb{E}_{s_{t+1}\\sim p(\\cdot|s_t,\\pi(s_t))}\\left[\\sum_{t=0}^\\infty\\gamma^t r(s_t,\\pi(s_t))\\bigg|s_0=s\\right]\\\\\n",
        "    &=  \\sum_{a}\\pi(a|s)Q^{\\pi}(s,a)\n",
        "\\end{align*}\n",
        "\n",
        "represents the value of being in state $s$ and following policy $\\pi$ while the **action-value function** for $s\\in \\mathcal{S}, a\\in \\mathcal{A}$ denoted\n",
        "\n",
        "$$ Q^\\pi(s,a) = r(s,a) + \\gamma\\sum_{s'\\in\\mathcal{S}}p(s'|s,a)V^{\\pi}(s')$$\n",
        "\n",
        "is the value of first taking an action $a$ in state $s$ then following policy $\\pi$.\n",
        "\n",
        "By standard notation, the **Bellman operator** of policy $\\pi$ acting on functions $V : \\mathcal{S}\\rightarrow \\mathbb{R}$ (or vectors $V\\in\\mathbb{R}^{|\\mathcal{S}|}$) is given as:\n",
        "\n",
        "$$(T^{\\pi}V)(s) =  \\sum_{a}\\pi(a|s)\\bigg[r(s,a) + \\gamma\\sum_{s'\\in\\mathcal{S}}p(s'|s,a)V(s')\\bigg],\\quad s\\in\\mathcal{S}$$\n",
        "\n",
        "\n",
        "&nbsp;\n",
        "\n",
        "---\n",
        "\n",
        "&nbsp;\n",
        "\n",
        "Ideally, we would like to find an **optimal policy** $\\pi^*$ with:\n",
        "\n",
        "$$ \\pi^*(s) \\in \\underset{a\\in\\mathcal{A}}{\\arg\\max} \\bigg\\{r(s,a) + \\gamma\\sum_{s'\\in\\mathcal{S}}p(s'|s,a)V^{\\pi^*}(s')\\bigg\\},\\quad s\\in\\mathcal{S}$$\n",
        "\n",
        "that maximizes our immediate reward and future return.\n",
        "\n",
        "The Bellman operator of $\\pi^*$ (a.k.a the **Bellman optimality operator**) acting on functions $V : \\mathcal{S}\\rightarrow \\mathbb{R}$ (or vectors $V\\in\\mathbb{R}^{|\\mathcal{S}|}$) is given as:\n",
        "\n",
        "$$(T^{*}V)(s) =  \\max_{a}\\bigg\\{r(s,a) + \\gamma\\sum_{s'\\in\\mathcal{S}}p(s'|s,a)V(s')\\bigg\\},\\quad s\\in\\mathcal{S}$$\n",
        "\n",
        "\n",
        "&nbsp;\n",
        "\n",
        "---\n",
        "\n",
        "&nbsp;\n",
        "\n",
        "With the transition and reward function of the grid-world task available to us, we attempt to find an optimal policy via **Dynamic programming**. Precisely, we implement **Policy Iteration** and **Value iteration** methods introduced in the first lecture.\n",
        "\n",
        "&nbsp;"
      ]
    },
    {
      "cell_type": "markdown",
      "metadata": {
        "id": "qMWFCbNN7F8l"
      },
      "source": [
        "### Notation\n",
        "\n",
        "*   $r_{\\pi}\\in\\mathbb{R}^{|\\mathcal{S}|}$ so that for $s\\in\\mathcal{S}$, $r_{\\pi}(s) = r(s,\\pi(s))$.\n",
        "*   $p_{\\pi}\\in\\mathbb{R}^{|\\mathcal{S}|\\times|\\mathcal{S}|}$ so that for $s,s'\\in\\mathcal{S}$, $p_{\\pi}(s'|s) = p(s'|s,\\pi(s))$.\n",
        "*   $\\sum_{r}p(s',r|s,a)  = p(s'|s,a)r(s,a)$ since rewards are deterministic.\n",
        "*   $n_{k}$ is the number of loops required to compute $V_{k}$\n",
        "*   $\\Delta$ is a threshold on the accuracy of value estimation [[3]](#scrollTo=XqJPFe6f6gFV&line=5&uniqifier=1)\n",
        "\n",
        "&nbsp;"
      ]
    },
    {
      "cell_type": "markdown",
      "metadata": {
        "id": "6nljnBe4bZTf"
      },
      "source": [
        "### Policy Iteration (PI) Recap\n",
        "\n",
        "**Idea**\n",
        "\n",
        "Gradually advance to $\\pi^{*}$ from an initial guess $\\pi_0$ through a series of **policy evaluation** and **policy improvement** steps.\n",
        "\n",
        "&nbsp;\n",
        "\n",
        "**Policy Evaluation step**\n",
        "\n",
        "Given a policy $\\pi_k$, compute $V^{\\pi_k}$ as\n",
        "\n",
        "* $V^{\\pi_k} = (I - \\gamma\\, p_{\\pi_k})^{-1}r_{\\pi_k}$\n",
        "\n",
        "&nbsp;\n",
        "\n",
        "**Policy Improvement step**\n",
        "\n",
        "Obtain $\\pi_{k+1}$ as the greedy policy w.r.t $V^{\\pi_k}$ (or $V_{k}$). That is,\n",
        "$$ \\pi_{k+1}(s) \\in \\underset{a\\in\\mathcal{A}}{\\arg\\max} \\bigg\\{r(s,a) + \\gamma\\sum_{s'\\in\\mathcal{X}}p(s'|s,a)V^{\\pi_{k}}(s')\\bigg\\},\\quad s\\in\\mathcal{S}$$\n",
        "\n",
        "&nbsp;\n",
        "\n",
        "#### Putting everything together\n",
        "\n",
        "Starting from an arbitrary stationary deterministic markovian policy $\\pi_{0}$, for $k = 0,1,2,\\cdots, K$ do:\n",
        "* Compute $V^{\\pi_k}$\n",
        "* Obtain $\\pi_{k+1}$ as the greedy policy w.r.t $V^{\\pi_k}$\n",
        "* Terminate loop if policy is stable (i.e $\\pi_{k+1}(s) = \\pi_{k}(s)$ for all $s\\in\\mathcal{S}$) and return $\\pi_{k+1}$.\n",
        "\n",
        "\n",
        "\n",
        "&nbsp;\n",
        "\n",
        "#### Theoretical guarantee [[1,2]](#scrollTo=XqJPFe6f6gFV&line=5&uniqifier=1)\n",
        "\n",
        "PI finds an optimal policy after $K = \\mathcal{\\tilde{O}}(\\mathcal{SA}/(1-\\gamma))$ iterations.\n",
        "\n",
        "<!---\n",
        "Explicitly $K = \\mathcal{\\tilde{O}}((\\mathcal{SA - S})/(1-\\gamma))$ iterations.\n",
        "-->"
      ]
    },
    {
      "cell_type": "code",
      "execution_count": 18,
      "metadata": {
        "id": "NFYLOHtPKwsG"
      },
      "outputs": [],
      "source": [
        "# Don't look at the solutions! This module contains the functions you should write\n",
        "from rlss_practice import dp_solutions"
      ]
    },
    {
      "cell_type": "code",
      "execution_count": 37,
      "metadata": {
        "id": "Woh49RAfbieB"
      },
      "outputs": [],
      "source": [
        "class PolicyIteration:\n",
        "  \"\"\"\n",
        "  Implements policy iteration\n",
        "  \"\"\"\n",
        "  def __init__(self, env: Env, gamma: float, initial_policy = None):\n",
        "    # Store\n",
        "    self.env = env\n",
        "    self.states = self.env.states\n",
        "    self.n_states = len(self.states)\n",
        "    self.actions = self.env.actions\n",
        "    self.n_actions = len(self.actions)\n",
        "    self.gamma = gamma\n",
        "    self.policy = initial_policy\n",
        "\n",
        "    # Default policy\n",
        "    if self.policy == None:\n",
        "      np.random.seed(4)\n",
        "      self.policy = {state: np.random.randint(0, self.n_actions-1) for state in self.states}\n",
        "\n",
        "    self.policy_stable = False\n",
        "    self.V = {state: 0.0 for state in env.states}\n",
        "    self.V_logs = []\n",
        "\n",
        "  def _evaluate_policy(self):\n",
        "    \"\"\"\n",
        "    Given 'policy' π_{k} compute V^{π_{k}}. Let,\n",
        "\n",
        "      A = (I - \\gamma p_{π_{k}})\n",
        "      b = r_{π_{k}}\n",
        "      x = V^{π_{k}}\n",
        "\n",
        "    solve the system of linear equations Ax=b\n",
        "\n",
        "    :return x: a |S|x1 array\n",
        "    \"\"\"\n",
        "    # Task: complete this and return x instead of using the line \"return dp_solutions...\"\n",
        "    A = np.identity(len(self.states)) - self.gamma * self.get_p_pi()\n",
        "    b = self.get_r_pi()\n",
        "\n",
        "    return np.linalg.solve(A,b)\n",
        "\n",
        "\n",
        "  def evaluate_policy(self):\n",
        "    \"\"\"\n",
        "    Collect state values in dict\n",
        "    \"\"\"\n",
        "    V_array = self._evaluate_policy()\n",
        "\n",
        "    # Assign values to holder as dictionary\n",
        "    self.V = {state: V_array[i].item() for i, state in enumerate(self.states)}\n",
        "\n",
        "    # Append values to log for plots\n",
        "    self.V_logs.append(self.V.copy())\n",
        "\n",
        "\n",
        "  def get_policy(self):\n",
        "    \"\"\"\n",
        "    Get the greedy policy:\n",
        "\n",
        "      π_{k+1}(s) = argmax_{a\\in A} Q^{\\pi_{k}}(s,a)\n",
        "\n",
        "    where\n",
        "\n",
        "      Q^{\\pi_{k}}(s,a) = r(s,a) + gamma * <P(.|s,a),V^{\\pi_{k}}>\n",
        "\n",
        "    assign new policy to self.policy\n",
        "    update self.policy_stable\n",
        "    \"\"\"\n",
        "    self.policy_stable = True\n",
        "    for state in self.states:\n",
        "      best_q = -np.inf\n",
        "      tmp_a = self.policy[state]\n",
        "      best_a = 0\n",
        "      for action in self.actions:\n",
        "        q = self.get_expected_update(state, action)\n",
        "        if q > best_q:\n",
        "          best_q = q\n",
        "          best_a = action\n",
        "      self.policy[state] = best_a\n",
        "      if self.policy[state] != tmp_a:\n",
        "        self.policy_stable = False\n",
        "\n",
        "\n",
        "\n",
        "\n",
        "  def get_expected_update(self, state, action):\n",
        "    \"\"\"\n",
        "    Compute:\n",
        "\n",
        "      Q(s,a) = r(s,a) + gamma <p(.|s,a),V>\n",
        "\n",
        "    :param state\n",
        "    :param action\n",
        "\n",
        "    :return Q(s,a): float\n",
        "    \"\"\"\n",
        "    # TODO: Solve this and return Q(s,a) instead\n",
        "    dot_product = sum([self.V[state_next] * self.env.T[state][action][state_next] for state_next in self.states])\n",
        "    return self.env.R[state][action] + self.gamma * dot_product\n",
        "\n",
        "\n",
        "  def get_p_pi(self):\n",
        "    \"\"\"\n",
        "    Given π_{k}, compute p_{π_{k}}\n",
        "    \"\"\"\n",
        "    p_pi = np.zeros((self.n_states,self.n_states))\n",
        "\n",
        "    for s_index, s in enumerate(self.states):\n",
        "      for snext_index, snext in enumerate(self.states):\n",
        "        p_pi[s_index, snext_index] = self.env.T[s][self.policy[s]][snext]\n",
        "\n",
        "    return p_pi\n",
        "\n",
        "\n",
        "  def get_r_pi(self):\n",
        "    \"\"\"\n",
        "    Given π_{k}, compute r_{π_{k}}\n",
        "    \"\"\"\n",
        "    r_pi = np.zeros((self.n_states,1))\n",
        "\n",
        "    for i, state in enumerate(self.states):\n",
        "      r_pi[i][0] = self.env.R[state][self.policy[state]]\n",
        "\n",
        "    return r_pi"
      ]
    },
    {
      "cell_type": "markdown",
      "metadata": {
        "id": "2pTZRo-jxBxQ"
      },
      "source": [
        "Let's try it out"
      ]
    },
    {
      "cell_type": "code",
      "execution_count": 38,
      "metadata": {
        "id": "zKL72UxrxFJl"
      },
      "outputs": [],
      "source": [
        "# Run policy iteration\n",
        "PI_planner1 = PolicyIteration(env, gamma=0.9)\n",
        "\n",
        "while not PI_planner1.policy_stable:\n",
        "  PI_planner1.evaluate_policy()\n",
        "  PI_planner1.get_policy()"
      ]
    },
    {
      "cell_type": "markdown",
      "metadata": {
        "id": "rQkER_MsJiCK"
      },
      "source": [
        "Visualization"
      ]
    },
    {
      "cell_type": "code",
      "execution_count": 39,
      "metadata": {
        "id": "6btXwfrRJev2"
      },
      "outputs": [],
      "source": [
        "def visualize(vlogs, state, grid_size):\n",
        "  grid_size -= 2   # walls\n",
        "\n",
        "  # Initial state values\n",
        "  fig1 = plt.figure(figsize=(4, 3))\n",
        "  ax1 = fig1.subplots()\n",
        "  ax1.set_ylabel(\"value of (1,1,0)\")\n",
        "  ax1.set_xlabel(\"iterations\")\n",
        "  initial_state_values = [value[(1, 1, 0)] for value in PI_planner1.V_logs]\n",
        "  ax1.plot(range(len(initial_state_values)), initial_state_values)\n",
        "\n",
        "  # States values over time\n",
        "  some_values_over_time = [\n",
        "    {(x, y): values[(x, y, o)] for (x, y, o) in env.states if o == 0}  # o is a fixed agent orientation\n",
        "    for values in vlogs\n",
        "  ]\n",
        "  values_over_time = [\n",
        "    np.array([[values[(x+1, y+1)] for x in range(grid_size)] for y in range(grid_size)])\n",
        "    for values in some_values_over_time\n",
        "  ]\n",
        "  vmids = [(values.max() + values.min()) / 2 for values in values_over_time]\n",
        "  vmin = min([values.min() for values in values_over_time])\n",
        "  vmax = max([values.max() for values in values_over_time])\n",
        "\n",
        "  steps = len(values_over_time)\n",
        "  fig2 = plt.figure(figsize=(4 * steps, 3))\n",
        "  axs2 = fig2.subplots(1, steps)\n",
        "  if isinstance(axs2, plt.Axes):\n",
        "    axs2 = [axs2]\n",
        "    multistep = False\n",
        "  else:\n",
        "    multistep = True\n",
        "\n",
        "  for i, ax in enumerate(axs2):\n",
        "    ax.set_title(f\"values at step {i}\" if multistep else \"values\")\n",
        "    ax.imshow(values_over_time[i], cmap=\"Blues\", vmin=vmin, vmax=vmax)\n",
        "    ax.xaxis.set_visible(False)\n",
        "    ax.yaxis.set_visible(False)\n",
        "    for x in range(grid_size):\n",
        "      for y in range(grid_size):\n",
        "        val = values_over_time[i][y,x]\n",
        "        ax.text(x, y, f\"{val:.2f}\", ha=\"center\", va=\"center\", color=\"w\" if val > vmids[i] else \"k\")"
      ]
    },
    {
      "cell_type": "code",
      "execution_count": 40,
      "metadata": {
        "id": "XvCmq5bQQqEi",
        "outputId": "accb4e66-1350-47b8-d6bc-c05fb8b83c07",
        "colab": {
          "base_uri": "https://localhost:8080/",
          "height": 483
        }
      },
      "outputs": [
        {
          "output_type": "display_data",
          "data": {
            "text/plain": [
              "<Figure size 400x300 with 1 Axes>"
            ],
            "image/png": "[encoded data removed]"
          },
          "metadata": {}
        },
        {
          "output_type": "display_data",
          "data": {
            "text/plain": [
              "<Figure size 2400x300 with 6 Axes>"
            ],
            "image/png": "[encoded data removed]"
          },
          "metadata": {}
        }
      ],
      "source": [
        "visualize(PI_planner1.V_logs, (1, 1, 0), 5)"
      ]
    },
    {
      "cell_type": "markdown",
      "metadata": {
        "id": "meYQb9VOTnDT"
      },
      "source": [
        "We can also test the policy."
      ]
    },
    {
      "cell_type": "code",
      "execution_count": 41,
      "metadata": {
        "id": "3C-WmCiVT6op",
        "outputId": "f7ae5509-f6da-4f4b-e2fe-17cf6013621c",
        "colab": {
          "base_uri": "https://localhost:8080/"
        }
      },
      "outputs": [
        {
          "output_type": "stream",
          "name": "stdout",
          "text": [
            "0.5904900000000003\n"
          ]
        }
      ],
      "source": [
        "avg_return = rollouts(env=visible_env,\n",
        "                      policy=make_policy(PI_planner1.policy),\n",
        "                      n_trajectories=20,\n",
        "                      gamma=0.9)\n",
        "\n",
        "print(avg_return)"
      ]
    },
    {
      "cell_type": "code",
      "execution_count": 42,
      "metadata": {
        "id": "LGxMz5yZEZ-N",
        "outputId": "09dc8b8e-9a78-4ef1-f217-1d32a6eaf95e",
        "colab": {
          "base_uri": "https://localhost:8080/",
          "height": 181
        }
      },
      "outputs": [
        {
          "output_type": "display_data",
          "data": {
            "text/plain": [
              "<IPython.core.display.HTML object>"
            ],
            "text/html": [
              "<video  controls autoplay> <source src=\"data:video/mp4;base64,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\" type=\"video/mp4\"> </video>"
            ]
          },
          "metadata": {}
        }
      ],
      "source": [
        "visible_env.play()"
      ]
    },
    {
      "cell_type": "markdown",
      "metadata": {
        "id": "ymYjjFBYbiy-"
      },
      "source": [
        "What if we have failure probabilities now?"
      ]
    },
    {
      "cell_type": "code",
      "execution_count": 43,
      "metadata": {
        "id": "8EcH0mS2bt1N",
        "outputId": "4bff9f3e-a68d-400c-c2a9-ebbe89f3cdef",
        "colab": {
          "base_uri": "https://localhost:8080/"
        }
      },
      "outputs": [
        {
          "output_type": "stream",
          "name": "stdout",
          "text": [
            "WWWWWW\n",
            "WV   W\n",
            "W    W\n",
            "W    W\n",
            "W   GW\n",
            "WWWWWW\n"
          ]
        },
        {
          "output_type": "stream",
          "name": "stderr",
          "text": [
            "/usr/local/lib/python3.10/dist-packages/gymnasium/wrappers/record_video.py:87: UserWarning: \u001b[33mWARN: Overwriting existing videos at /content/videos-dir folder (try specifying a different `video_folder` for the `RecordVideo` wrapper if this is not desired)\u001b[0m\n",
            "  logger.warn(\n"
          ]
        }
      ],
      "source": [
        "# Define\n",
        "env = Room(\n",
        "    failure=0.2,\n",
        "    agent_start_pos=(1, 1),\n",
        "    agent_start_dir=1,\n",
        "    size=6,\n",
        ")\n",
        "visible_env = Renderer(env)\n",
        "print(env)\n",
        "\n",
        "# Plan\n",
        "PI_planner1 = PolicyIteration(env, gamma=0.9)\n",
        "\n",
        "while not PI_planner1.policy_stable:\n",
        "  PI_planner1.evaluate_policy()\n",
        "  PI_planner1.get_policy()"
      ]
    },
    {
      "cell_type": "code",
      "execution_count": null,
      "metadata": {
        "id": "gvuqeY88cCW2"
      },
      "outputs": [],
      "source": [
        "# Visualize\n",
        "avg_return = rollouts(\n",
        "    env=visible_env,\n",
        "    policy=make_policy(PI_planner1.policy),\n",
        "    n_trajectories=80,\n",
        "    gamma=0.9\n",
        ")\n",
        "print(avg_return)"
      ]
    },
    {
      "cell_type": "code",
      "execution_count": null,
      "metadata": {
        "id": "I-hHn_KXcKaS"
      },
      "outputs": [],
      "source": [
        "visible_env.play()\n",
        "\n",
        "visualize(PI_planner1.V_logs, (1, 1, 1), 6)"
      ]
    },
    {
      "cell_type": "markdown",
      "metadata": {
        "id": "uzJ9fQ8ceZIB"
      },
      "source": [
        "But matrix inversions can be quite expensive. Consider iterative policy evaluation instead.\n",
        "\n",
        "&nbsp;\n",
        "\n",
        "### Modified Policy Iteration (MPI) Recap\n",
        "\n",
        "**Idea**\n",
        "\n",
        "Same as PI but with **truncated policy evaluation**\n",
        "\n",
        "&nbsp;\n",
        "\n",
        "**Truncated Policy Evaluation step**\n",
        "\n",
        "Given a policy $\\pi_k$, estimate $V^{\\pi_k}$ as $V_{k}$ with the following iterations\n",
        "\n",
        "  * Initialize $V$ as $\\mathbf{0}$ when $k = 0$ and $V_{k-1}$ otherwise, let $\\pi = \\pi_k$\n",
        "\n",
        "    <div>\n",
        "    <img src=\"https://drive.google.com/uc?export=view&id=1QaMg7a6HELjYycAnm6RE9vnzHD_fnaCn\" alt=\"iterative policy evaluation\" width=\"600\"/>\n",
        "    </div>\n",
        "\n",
        "    Return $V_k = V$. <!--$(T^{\\pi_{k}})^{n_{k}}V_{k-1}$-->\n",
        "\n",
        "&nbsp;\n",
        "\n",
        "#### Putting everything together\n",
        "\n",
        "Starting from an arbitrary stationary deterministic markovian policy $\\pi_{0}$, for $k = 0,1,2,\\cdots, K$ do:\n",
        "* Estimate $V^{\\pi_k}$ with $V_{k}=(T^{\\pi_{k}})^{n_{k}}V_{k-1}$\n",
        "* Obtain $\\pi_{k+1}$ as the greedy policy w.r.t $V^{\\pi_k}$\n",
        "* Terminate loop if policy is stable (i.e $\\pi_{k+1}(s) = \\pi_{k}(s)$ for all $s\\in\\mathcal{S}$) and return $\\pi_{k+1}$."
      ]
    },
    {
      "cell_type": "code",
      "execution_count": 44,
      "metadata": {
        "id": "nFkMVMI3syvt"
      },
      "outputs": [],
      "source": [
        "class ModifiedPolicyIteration(PolicyIteration):\n",
        "  \"\"\"\n",
        "  Implements policy iteration with truncated policy evaluation\n",
        "  \"\"\"\n",
        "  def __init__(self,\n",
        "              env: Env,\n",
        "              gamma: float,\n",
        "              theta: float,\n",
        "              initial_policy = None):\n",
        "\n",
        "    super().__init__(env, gamma, initial_policy)\n",
        "    self.theta = theta\n",
        "    self.V = {state: 0.0 for state in env.states}\n",
        "\n",
        "\n",
        "  def evaluate_policy(self):\n",
        "    \"\"\"\n",
        "    Given 'policy' π_{k},\n",
        "    Starting from a previous guess 'V_{k-1}',\n",
        "    iteratively estimate V^{π_{k}} as T^{π_{k}}V_{k-1}.\n",
        "\n",
        "    assign new state values to self.V\n",
        "    \"\"\"\n",
        "    # Task: Complete this and delete line *\n",
        "\n",
        "    # Set Delta\n",
        "    delta = np.inf\n",
        "\n",
        "    # Main loop for iterative value update\n",
        "    while delta > self.theta:\n",
        "      # Initialize Delta\n",
        "      delta = 0\n",
        "      for state in self.states:\n",
        "        v = self.V[state]\n",
        "        sum_ = 0\n",
        "        for s_next in self.states:\n",
        "          sum_ += self.env.T[state][self.policy[state]][s_next] * (self.env.R[state][self.policy[state]] + self.gamma * self.V[s_next])\n",
        "        self.V[state] = sum_\n",
        "        delta = max(delta, abs(v - self.V[state]))\n",
        "      # ToDo: Loop over states\n",
        "\n",
        "        #ToDo: Update the state value\n",
        "\n",
        "        #ToDo: Update Delta\n",
        "\n",
        "    dp_solutions.ModifiedPolicyIteration._evaluate_policy(self)    #*\n",
        "\n",
        "    self.V_logs.append(self.V.copy())\n"
      ]
    },
    {
      "cell_type": "markdown",
      "metadata": {
        "id": "KofhGOYGhckf"
      },
      "source": [
        "Now we run Modified policy iteration"
      ]
    },
    {
      "cell_type": "code",
      "execution_count": 45,
      "metadata": {
        "id": "D9uBUwD-hhSF"
      },
      "outputs": [],
      "source": [
        "MPI_planner = ModifiedPolicyIteration(env,\n",
        "                                      gamma = 0.9, # Same as PI\n",
        "                                      theta = 0.01)\n",
        "\n",
        "while not MPI_planner.policy_stable:\n",
        "  MPI_planner.evaluate_policy()\n",
        "  MPI_planner.get_policy()"
      ]
    },
    {
      "cell_type": "code",
      "execution_count": 46,
      "metadata": {
        "id": "70ieiSAZqR6H",
        "outputId": "07744e70-54e1-4f7b-9f80-03ab81934059",
        "colab": {
          "base_uri": "https://localhost:8080/"
        }
      },
      "outputs": [
        {
          "output_type": "stream",
          "name": "stdout",
          "text": [
            "0.3562100496439758\n"
          ]
        }
      ],
      "source": [
        "avg_return = rollouts(env=visible_env,\n",
        "                      policy=make_policy(MPI_planner.policy),\n",
        "                      n_trajectories=80,\n",
        "                      gamma=0.9)\n",
        "\n",
        "print(avg_return)"
      ]
    },
    {
      "cell_type": "code",
      "execution_count": 47,
      "metadata": {
        "id": "cCueLRiiqvaQ",
        "outputId": "0a40d632-4a40-4ba2-c8d3-06b35253d7a2",
        "colab": {
          "base_uri": "https://localhost:8080/",
          "height": 778
        }
      },
      "outputs": [
        {
          "output_type": "display_data",
          "data": {
            "text/plain": [
              "<IPython.core.display.HTML object>"
            ],
            "text/html": [
              "<video  controls autoplay> <source src=\"data:video/mp4;base64,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\" type=\"video/mp4\"> </video>"
            ]
          },
          "metadata": {}
        },
        {
          "output_type": "display_data",
          "data": {
            "text/plain": [
              "<Figure size 400x300 with 1 Axes>"
            ],
            "image/png": "[encoded data removed]"
          },
          "metadata": {}
        },
        {
          "output_type": "display_data",
          "data": {
            "text/plain": [
              "<Figure size 1200x300 with 3 Axes>"
            ],
            "image/png": "[encoded data removed]"
          },
          "metadata": {}
        }
      ],
      "source": [
        "visible_env.play()\n",
        "\n",
        "visualize(MPI_planner.V_logs, (1, 1, 1), 6)"
      ]
    },
    {
      "cell_type": "markdown",
      "metadata": {
        "id": "IA8AkX2Feuwt"
      },
      "source": [
        "### Value Iteration (VI) Recap\n",
        "\n",
        "**Idea**\n",
        "\n",
        "Gradually advance to $\\pi^{*}$ with combined **truncated policy evaluation** and **policy improvement** steps.\n",
        "\n",
        "&nbsp;\n",
        "\n",
        "**Truncated Policy Evaluation and Improvement step**\n",
        "\n",
        "No arbitrary starting policy needed. Estimate $V^{\\pi^*}$ as follows:\n",
        "\n",
        "  * For $k = 0,1,2,\\cdots, K$\n",
        "\n",
        "    * Set $V = \\mathbf{0}$ when $k = 0$ and $V_{k-1}$ otherwise\n",
        "      <div>\n",
        "      <img src=\"https://drive.google.com/uc?export=view&id=1fsi3ZZgqZ-p061AxvSdeluWZTlwSjnGj\" alt=\"policy evaluation and improvement\" width=\"400\"/>\n",
        "      </div>\n",
        "\n",
        "      return $V$ as $V_{k}$.\n",
        "\n",
        "\n",
        "&nbsp;\n",
        "\n",
        "#### Putting everything together\n",
        "\n",
        "* Estimate $V^{\\pi^*}$ with $V_{K} = (T^*)^{K}\\mathbf{0}$\n",
        "* Return $\\hat{\\pi}^{*}$ as the greedy policy w.r.t $V_{K}$. That is,\n",
        "\n",
        "  $$ \\hat{\\pi}^{*}(s) \\in \\underset{a\\in\\mathcal{A}}{\\arg\\max} \\bigg\\{r(s,a) + \\gamma\\sum_{s'\\in\\mathcal{X}}p(s'|s,a)V_{K}(s')\\bigg\\},\\quad s\\in\\mathcal{S}$$\n",
        "\n",
        "\n",
        "\n",
        "&nbsp;\n",
        "\n",
        "#### Theoretical guarantee [[2]](#scrollTo=XqJPFe6f6gFV&line=5&uniqifier=1)\n",
        "\n",
        "VI finds an **$\\mathbf{\\varepsilon}$-optimal policy** ($\\pi^{\\varepsilon}$) satisfying\n",
        "\n",
        "$\\qquad V^* - V^{\\pi^{\\varepsilon}}\\leq \\varepsilon\\,\\mathbf{1}$\n",
        "\n",
        "after $K = \\mathcal{O}(\\ln(2\\gamma/\\varepsilon(1-\\gamma)^2)/(1-\\gamma))$ iterations.\n"
      ]
    },
    {
      "cell_type": "code",
      "execution_count": 48,
      "metadata": {
        "id": "cWtqSTiD9Kko"
      },
      "outputs": [],
      "source": [
        "class ValueIteration:\n",
        "  \"\"\"\n",
        "  Implements value iteration\n",
        "  \"\"\"\n",
        "  def __init__(self,\n",
        "              env: Env,\n",
        "              gamma: float,\n",
        "              epsilon: float,\n",
        "              num_iterations = None,\n",
        "  ):\n",
        "    self.env = env\n",
        "    self.states = self.env.states\n",
        "    self.n_states = len(self.states)\n",
        "    self.actions = self.env.actions\n",
        "    self.n_actions = len(self.actions)\n",
        "    self.gamma = gamma\n",
        "    self.K = num_iterations\n",
        "    self.V_logs = []\n",
        "\n",
        "    if self.K is None:\n",
        "      self.K = math.ceil(np.log((2*self.gamma)/(epsilon*(1-self.gamma)**2))/(1-self.gamma))\n",
        "\n",
        "    self.policy = {state: 0 for state in self.env.states}\n",
        "    self.V = {state: 0 for state in self.env.states}\n",
        "\n",
        "\n",
        "  def estimate_vstar(self):\n",
        "    \"\"\"\n",
        "    Starting from an initial guess 'V',\n",
        "    iteratively estimate V^{π*} as T*V\n",
        "\n",
        "    Assign new values to self.V\n",
        "    \"\"\"\n",
        "    # Task: Complete this and delete line *\n",
        "\n",
        "    # Main loop for iterative value update\n",
        "    for k in range(self.K):\n",
        "      for state in self.states:\n",
        "        a_s = []\n",
        "        for a in self.actions:\n",
        "          sum_ = 0\n",
        "          for s_next in self.states:\n",
        "            sum_ += self.env.T[state][a][s_next] * (self.env.R[state][a] + self.gamma * self.V[s_next])\n",
        "          a_s.append(sum_)\n",
        "        self.V[state] = max(a_s)\n",
        "\n",
        "\n",
        "    self.V_logs.append(self.V.copy())\n",
        "\n",
        "\n",
        "  def get_policy(self):\n",
        "    \"\"\"\n",
        "    Get the greedy policy:\n",
        "      π(s) = argmax_{a\\in A} Q(s,a)\n",
        "    where\n",
        "      Q(s,a) = r(s,a) + gamma*<P(.|s,a),v>\n",
        "\n",
        "    assign new policy to self.policy\n",
        "    \"\"\"\n",
        "    return PolicyIteration.get_policy(self)\n",
        "\n",
        "\n",
        "  def get_expected_update(self, state, action):\n",
        "    \"\"\"\n",
        "    Compute:\n",
        "\n",
        "      Q(s,a) = r(s,a) + gamma <p(.|s,a),V>\n",
        "\n",
        "    :param state\n",
        "    :param action\n",
        "\n",
        "    :return Q(s,a): float\n",
        "    \"\"\"\n",
        "    return PolicyIteration.get_expected_update(self, state, action)"
      ]
    },
    {
      "cell_type": "markdown",
      "metadata": {
        "id": "M7DXuWm3v82W"
      },
      "source": [
        "Finally, we also plan with Value Iteration."
      ]
    },
    {
      "cell_type": "code",
      "execution_count": 49,
      "metadata": {
        "id": "BFFnzxCfaS-E"
      },
      "outputs": [],
      "source": [
        "VI_planner = ValueIteration(env,\n",
        "                            gamma = 0.9, #same as PI\n",
        "                            epsilon = 0.01,\n",
        "                            num_iterations = None) # You can set the number of iterations\n",
        "\n",
        "VI_planner.estimate_vstar()\n",
        "VI_planner.get_policy()"
      ]
    },
    {
      "cell_type": "code",
      "execution_count": 50,
      "metadata": {
        "id": "dgj9qrYohLWm",
        "outputId": "3eb1a628-9713-49ca-a967-1fb97759c7f5",
        "colab": {
          "base_uri": "https://localhost:8080/"
        }
      },
      "outputs": [
        {
          "output_type": "stream",
          "name": "stdout",
          "text": [
            "0.3476792496898552\n"
          ]
        }
      ],
      "source": [
        "avg_return = rollouts(env=visible_env,\n",
        "                      policy=make_policy(VI_planner.policy),\n",
        "                      n_trajectories=80,\n",
        "                      gamma=0.9)\n",
        "\n",
        "print(avg_return)"
      ]
    },
    {
      "cell_type": "code",
      "execution_count": 51,
      "metadata": {
        "id": "QY-Vrp5J0gDC",
        "outputId": "7a8c1ffc-2465-4e64-9a39-4cde33d94d17",
        "colab": {
          "base_uri": "https://localhost:8080/",
          "height": 778
        }
      },
      "outputs": [
        {
          "output_type": "display_data",
          "data": {
            "text/plain": [
              "<IPython.core.display.HTML object>"
            ],
            "text/html": [
              "<video  controls autoplay> <source src=\"data:video/mp4;base64,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\" type=\"video/mp4\"> </video>"
            ]
          },
          "metadata": {}
        },
        {
          "output_type": "display_data",
          "data": {
            "text/plain": [
              "<Figure size 400x300 with 1 Axes>"
            ],
            "image/png": "[encoded data removed]"
          },
          "metadata": {}
        },
        {
          "output_type": "display_data",
          "data": {
            "text/plain": [
              "<Figure size 400x300 with 1 Axes>"
            ],
            "image/png": "[encoded data removed]"
          },
          "metadata": {}
        }
      ],
      "source": [
        "visible_env.play()\n",
        "\n",
        "visualize(VI_planner.V_logs, (1, 1, 0), 6)"
      ]
    },
    {
      "cell_type": "markdown",
      "metadata": {
        "id": "8fS7zGk2tas0"
      },
      "source": [
        "### Bonus Task ⭐\n",
        "\n",
        "Implement Optimistic Policy Iteration. See slide 33 of [[1]](#scrollTo=XqJPFe6f6gFV&line=5&uniqifier=1).\n",
        "\n",
        "Improve the efficiency of the implementations above with Numpy/Pytorch/Tensorflow."
      ]
    },
    {
      "cell_type": "markdown",
      "metadata": {
        "id": "XqJPFe6f6gFV"
      },
      "source": [
        "# Credit:\n",
        "\n",
        "1.   Bruno Scherrer, \"a lecture on Markov Decision Processes and Dynamic Programming\", June 2023, [Slides](https://drive.google.com/file/d/1sFh0TyU_nq60R7kouPg6MCI4IMYicSII/view?usp=sharing)\n",
        "2.   Csaba Szepesvári \"a lecture series on Theoretical Foundations of Reinforcement Learning\", 2020, [RL Theory course](https://rltheory.github.io/)\n",
        "3.   Richard S. Sutton, Andrew G. Barto \"Reinforcement Learning: An Introduction\", second edition, 2020, [Book](http://incompleteideas.net/book/RLbook2020.pdf)\n",
        "\n",
        "\n",
        "\n"
      ]
    }
  ],
  "metadata": {
    "colab": {
      "provenance": []
    },
    "kernelspec": {
      "display_name": "Python 3 (ipykernel)",
      "language": "python",
      "name": "python3"
    },
    "language_info": {
      "codemirror_mode": {
        "name": "ipython",
        "version": 3
      },
      "file_extension": ".py",
      "mimetype": "text/x-python",
      "name": "python",
      "nbconvert_exporter": "python",
      "pygments_lexer": "ipython3",
      "version": "3.9.2"
    }
  },
  "nbformat": 4,
  "nbformat_minor": 0
}